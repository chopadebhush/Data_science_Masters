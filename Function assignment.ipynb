{
 "cells": [
  {
   "cell_type": "markdown",
   "id": "17f2d8dc-e113-48e0-a189-980bcd4b4c2b",
   "metadata": {},
   "source": [
    "`Q1.` Which keyword is used to create a function? Create a function to return a list of odd numbers in the range of 1 to 25."
   ]
  },
  {
   "cell_type": "markdown",
   "id": "114c89c5-7119-4d71-873c-f3b5835ef4a6",
   "metadata": {},
   "source": [
    "Ans :- `def` keyword is used to define fuction "
   ]
  },
  {
   "cell_type": "code",
   "execution_count": 1,
   "id": "228184e1-bdba-4ec0-bf04-921d3831ce50",
   "metadata": {},
   "outputs": [],
   "source": [
    "def test0(a):\n",
    "    l =[]\n",
    "    for i in a :\n",
    "        if i % 2 !=0:\n",
    "            l.append(i)\n",
    "    return l"
   ]
  },
  {
   "cell_type": "code",
   "execution_count": 2,
   "id": "a521f386-8256-4041-abbe-7f9e0b883e9a",
   "metadata": {},
   "outputs": [],
   "source": [
    "a = []\n",
    "for i in range(25+1):\n",
    "    a.append(i)"
   ]
  },
  {
   "cell_type": "code",
   "execution_count": 3,
   "id": "1f6225af-7abb-4c66-9f9c-bceb58437a95",
   "metadata": {},
   "outputs": [
    {
     "name": "stdout",
     "output_type": "stream",
     "text": [
      "[0, 1, 2, 3, 4, 5, 6, 7, 8, 9, 10, 11, 12, 13, 14, 15, 16, 17, 18, 19, 20, 21, 22, 23, 24, 25]\n"
     ]
    }
   ],
   "source": [
    "print(a)"
   ]
  },
  {
   "cell_type": "code",
   "execution_count": 5,
   "id": "a8d1ba17-b405-491e-8ee4-bfaa0faffe6c",
   "metadata": {},
   "outputs": [
    {
     "data": {
      "text/plain": [
       "[1, 3, 5, 7, 9, 11, 13, 15, 17, 19, 21, 23, 25]"
      ]
     },
     "execution_count": 5,
     "metadata": {},
     "output_type": "execute_result"
    }
   ],
   "source": [
    "# list of odd numbers\n",
    "test0(a)"
   ]
  },
  {
   "cell_type": "markdown",
   "id": "c07eb52e-35f3-49c0-81ee-48569e513c0e",
   "metadata": {},
   "source": [
    "`Q2.` Why *args and **kwargs is used in some functions? Create a function each for *args and **kwargs to demonstrate their use."
   ]
  },
  {
   "cell_type": "markdown",
   "id": "3945b95f-3981-4e2b-b961-5f09e88ce0b1",
   "metadata": {},
   "source": [
    "Ans :- `*args` :\n",
    "\n",
    "        if we use *args in input as function that mean we can give many number of input to function or which allow us to pass the variable number of non keyword arguments to function.\n",
    "        \n",
    "        `*kwrgs` :\n",
    "        \n",
    "         it allows us to pass the variable length of keyword arguments to the function.The arguments are passed as a dictionary and these arguments make a dictionary inside function with name same as the parameter excluding double asterisk"
   ]
  },
  {
   "cell_type": "code",
   "execution_count": 34,
   "id": "eb911392-16d3-4cce-85cf-e54bab89baf4",
   "metadata": {},
   "outputs": [],
   "source": [
    "def test1(*args):\n",
    "    print(\"Enter values are :\",*args)\n",
    "    Sum = 0\n",
    "    for i in args:\n",
    "        Sum =Sum +i\n",
    "    return print(\"Sum is :\",Sum)"
   ]
  },
  {
   "cell_type": "code",
   "execution_count": 35,
   "id": "d0be0fb2-558a-40d6-9682-ca8ec3df364d",
   "metadata": {},
   "outputs": [
    {
     "name": "stdout",
     "output_type": "stream",
     "text": [
      "Enter values are : 13 34 56\n",
      "Sum is : 103\n"
     ]
    }
   ],
   "source": [
    "test1(13,34,56)"
   ]
  },
  {
   "cell_type": "code",
   "execution_count": 36,
   "id": "34b84cbd-7101-4607-b359-2975b93cd989",
   "metadata": {},
   "outputs": [
    {
     "name": "stdout",
     "output_type": "stream",
     "text": [
      "Enter values are : 455 456 89\n",
      "Sum is : 1000\n"
     ]
    }
   ],
   "source": [
    "test1(455,456,89)"
   ]
  },
  {
   "cell_type": "code",
   "execution_count": 37,
   "id": "5752efd1-904f-467c-8c30-a6d9fd86f171",
   "metadata": {},
   "outputs": [
    {
     "name": "stdout",
     "output_type": "stream",
     "text": [
      "Enter values are : 132553 6778 987\n",
      "Sum is : 140318\n"
     ]
    }
   ],
   "source": [
    "test1(132553,6778,987)"
   ]
  },
  {
   "cell_type": "code",
   "execution_count": 49,
   "id": "3f0c5830-f268-417f-9c90-b5f979e41acd",
   "metadata": {},
   "outputs": [],
   "source": [
    "def test2(**kwargs):\n",
    "    print(f\"Type of argument :{type(kwargs)}\")\n",
    "    for i,j in kwargs.items():\n",
    "        print(f\"{i}  = {j} \")"
   ]
  },
  {
   "cell_type": "code",
   "execution_count": 50,
   "id": "3574310f-017e-4177-ae12-41aba0f1d52c",
   "metadata": {},
   "outputs": [
    {
     "name": "stdout",
     "output_type": "stream",
     "text": [
      "Type of argument :<class 'dict'>\n",
      "Firstname  = Sita \n",
      "Lastname  = Sharma \n",
      "Age  = 22 \n",
      "Phone  = 1234567890 \n"
     ]
    }
   ],
   "source": [
    "test2(Firstname=\"Sita\", Lastname=\"Sharma\", Age=22, Phone=1234567890)"
   ]
  },
  {
   "cell_type": "code",
   "execution_count": 51,
   "id": "e0a530bd-b4f8-4b72-9f9d-b421f56fa658",
   "metadata": {},
   "outputs": [
    {
     "name": "stdout",
     "output_type": "stream",
     "text": [
      "Type of argument :<class 'dict'>\n",
      "Firstname  = John \n",
      "Lastname  = Wood \n",
      "Email  = johnwood@nomail.com \n",
      "Country  = Wakanda \n",
      "Age  = 25 \n",
      "Phone  = 9876543210 \n"
     ]
    }
   ],
   "source": [
    "test2(Firstname=\"John\", Lastname=\"Wood\", Email=\"johnwood@nomail.com\", Country=\"Wakanda\", Age=25, Phone=9876543210)"
   ]
  },
  {
   "cell_type": "markdown",
   "id": "869e7e30-77d7-4388-a501-cab2e76d22e7",
   "metadata": {},
   "source": [
    "`Q3.` What is an iterator in python? Name the method used to initialise the iterator object and the method used for iteration. Use these methods to print the first five elements of the given list [2, 4, 6, 8, 10, 12, 14, 16,18, 20]."
   ]
  },
  {
   "cell_type": "markdown",
   "id": "3b102840-6824-4f12-8806-8a027c8f8679",
   "metadata": {},
   "source": [
    "Ans :- An iterator is an object that can be iterated upon, meaning that you can traverse through all the values."
   ]
  },
  {
   "cell_type": "code",
   "execution_count": 37,
   "id": "970efdea-8220-455a-90f6-dd6d4597dd10",
   "metadata": {},
   "outputs": [],
   "source": [
    "my_list =[2, 4, 6, 8, 10, 12, 14, 16,18,20]\n",
    "my_list_Itr=iter(my_list)"
   ]
  },
  {
   "cell_type": "code",
   "execution_count": 27,
   "id": "c0defc35-3434-4d35-a406-c709cb18c4fb",
   "metadata": {},
   "outputs": [
    {
     "name": "stdout",
     "output_type": "stream",
     "text": [
      "2\n",
      "4\n",
      "6\n",
      "8\n",
      "10\n"
     ]
    }
   ],
   "source": [
    "print(next(my_list_Itr))\n",
    "print(next(my_list_Itr))\n",
    "print(next(my_list_Itr))\n",
    "print(next(my_list_Itr))\n",
    "print(next(my_list_Itr))"
   ]
  },
  {
   "cell_type": "markdown",
   "id": "e7cfa2b9-455d-4001-84c1-5676ac1845ab",
   "metadata": {},
   "source": [
    "`Q4.` What is a generator function in python? Why yield keyword is used? Give an example of a generator function."
   ]
  },
  {
   "cell_type": "markdown",
   "id": "60891385-1c04-4479-a95b-faaf14713323",
   "metadata": {},
   "source": [
    "Ans :-a generator is a function that returns an iterator that produces a sequence of values when iterated over. Generators are useful when we want to produce a large sequence of values, but we don't want to store all of them in memory at once."
   ]
  },
  {
   "cell_type": "code",
   "execution_count": 59,
   "id": "c3ddc1c3-b06a-43d1-b28a-580a837d9086",
   "metadata": {},
   "outputs": [],
   "source": [
    "def test3(n):\n",
    "    count = 0\n",
    "    while count < n:\n",
    "        yield count\n",
    "        count =count +1"
   ]
  },
  {
   "cell_type": "code",
   "execution_count": 61,
   "id": "195d1dd4-205b-414f-9ff7-ebb49f538c3f",
   "metadata": {},
   "outputs": [
    {
     "name": "stdout",
     "output_type": "stream",
     "text": [
      "0 1 2 3 4 5 6 7 8 9 10 11 12 13 14 15 16 17 18 19 20 21 22 23 24 25 26 27 28 29 30 31 32 33 34 35 36 37 38 39 40 41 42 43 44 45 46 47 48 49 50 "
     ]
    }
   ],
   "source": [
    "for i in test3(50+1):\n",
    "    print(i,end=' ')"
   ]
  },
  {
   "cell_type": "markdown",
   "id": "cb4210d1-4d58-4270-b5ff-1e9226a6f525",
   "metadata": {},
   "source": [
    "`Q5.` Create a generator function for prime numbers less than 1000. Use the next() method to print the first 20 prime numbers"
   ]
  },
  {
   "cell_type": "code",
   "execution_count": 21,
   "id": "91c7f5c8-9dfa-4ad5-a08f-c2f5ed4a7188",
   "metadata": {},
   "outputs": [],
   "source": [
    "def test4(a,b):\n",
    "    list_store =[]\n",
    "    for i in range(a,b):\n",
    "        if i > 2:\n",
    "            for w in range(2,i):\n",
    "                if (i % w) ==0:\n",
    "                    break\n",
    "            else:\n",
    "                list_store.append(i)\n",
    "    return list_store"
   ]
  },
  {
   "cell_type": "code",
   "execution_count": 22,
   "id": "a0037d4c-0b20-4092-a432-5bf91aa1a1e9",
   "metadata": {},
   "outputs": [
    {
     "name": "stdout",
     "output_type": "stream",
     "text": [
      "[3, 5, 7, 11, 13, 17, 19, 23, 29, 31, 37, 41, 43, 47, 53, 59, 61, 67, 71, 73, 79, 83, 89, 97, 101, 103, 107, 109, 113, 127, 131, 137, 139, 149, 151, 157, 163, 167, 173, 179, 181, 191, 193, 197, 199, 211, 223, 227, 229, 233, 239, 241, 251, 257, 263, 269, 271, 277, 281, 283, 293, 307, 311, 313, 317, 331, 337, 347, 349, 353, 359, 367, 373, 379, 383, 389, 397, 401, 409, 419, 421, 431, 433, 439, 443, 449, 457, 461, 463, 467, 479, 487, 491, 499, 503, 509, 521, 523, 541, 547, 557, 563, 569, 571, 577, 587, 593, 599, 601, 607, 613, 617, 619, 631, 641, 643, 647, 653, 659, 661, 673, 677, 683, 691, 701, 709, 719, 727, 733, 739, 743, 751, 757, 761, 769, 773, 787, 797, 809, 811, 821, 823, 827, 829, 839, 853, 857, 859, 863, 877, 881, 883, 887, 907, 911, 919, 929, 937, 941, 947, 953, 967, 971, 977, 983, 991, 997] "
     ]
    }
   ],
   "source": [
    "print(test4(1,999),end=\" \")"
   ]
  },
  {
   "cell_type": "code",
   "execution_count": 29,
   "id": "c09f35cd-1d60-4d69-86d9-fa07f51c664f",
   "metadata": {},
   "outputs": [
    {
     "name": "stdout",
     "output_type": "stream",
     "text": [
      "[3, 5, 7, 11, 13, 17, 19, 23, 29, 31, 37, 41, 43, 47, 53, 59, 61, 67, 71, 73, 79, 83, 89, 97] "
     ]
    }
   ],
   "source": [
    "Store_inList =test4(1,100)\n",
    "print(Store_inList,end=' ')"
   ]
  },
  {
   "cell_type": "code",
   "execution_count": 130,
   "id": "dbde04d9-c364-4e4e-bdfb-28243df657a6",
   "metadata": {},
   "outputs": [],
   "source": [
    "my_lst=iter(Store_inList)"
   ]
  },
  {
   "cell_type": "code",
   "execution_count": 131,
   "id": "3853d9d0-2363-4c41-b220-eef5bf1c36bd",
   "metadata": {},
   "outputs": [
    {
     "name": "stdout",
     "output_type": "stream",
     "text": [
      "3\n",
      "5\n",
      "7\n",
      "11\n",
      "13\n",
      "17\n",
      "19\n",
      "23\n",
      "29\n",
      "31\n",
      "37\n",
      "41\n",
      "43\n",
      "47\n",
      "53\n",
      "59\n",
      "61\n",
      "67\n",
      "71\n"
     ]
    }
   ],
   "source": [
    "print(next(my_lst))\n",
    "print(next(my_lst))\n",
    "print(next(my_lst))\n",
    "print(next(my_lst))\n",
    "print(next(my_lst))\n",
    "print(next(my_lst))\n",
    "print(next(my_lst))\n",
    "print(next(my_lst))\n",
    "print(next(my_lst))\n",
    "print(next(my_lst))\n",
    "print(next(my_lst))\n",
    "print(next(my_lst))\n",
    "print(next(my_lst))\n",
    "print(next(my_lst))\n",
    "print(next(my_lst))\n",
    "print(next(my_lst))\n",
    "print(next(my_lst))\n",
    "print(next(my_lst))\n",
    "print(next(my_lst))"
   ]
  },
  {
   "cell_type": "code",
   "execution_count": null,
   "id": "be024b0a-f3cd-4099-b43e-5fe0a310e9b1",
   "metadata": {},
   "outputs": [],
   "source": [
    "    "
   ]
  }
 ],
 "metadata": {
  "kernelspec": {
   "display_name": "Python 3 (ipykernel)",
   "language": "python",
   "name": "python3"
  },
  "language_info": {
   "codemirror_mode": {
    "name": "ipython",
    "version": 3
   },
   "file_extension": ".py",
   "mimetype": "text/x-python",
   "name": "python",
   "nbconvert_exporter": "python",
   "pygments_lexer": "ipython3",
   "version": "3.10.8"
  }
 },
 "nbformat": 4,
 "nbformat_minor": 5
}
