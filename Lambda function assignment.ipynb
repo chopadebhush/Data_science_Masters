{
 "cells": [
  {
   "cell_type": "markdown",
   "id": "fbef4ffa-d766-45e3-9e2f-022c054c57df",
   "metadata": {},
   "source": [
    "`Q1.` Create a python program to sort the given list of tuples based on integer value using a\n",
    "lambda function."
   ]
  },
  {
   "cell_type": "code",
   "execution_count": 1,
   "id": "b1eeb01f-5eba-4df5-b688-38c2a5069f0a",
   "metadata": {},
   "outputs": [],
   "source": [
    "my_tuple=[('Sachin Tendulkar', 34357), ('Ricky Ponting', 27483), \n",
    "          ('Jack Kallis', 25534), ('Virat Kohli', 24936)]"
   ]
  },
  {
   "cell_type": "code",
   "execution_count": 21,
   "id": "e6d08286-b75d-41c1-b3be-fb0065c51300",
   "metadata": {},
   "outputs": [
    {
     "data": {
      "text/plain": [
       "[('Sachin Tendulkar', 34357),\n",
       " ('Ricky Ponting', 27483),\n",
       " ('Jack Kallis', 25534),\n",
       " ('Virat Kohli', 24936)]"
      ]
     },
     "execution_count": 21,
     "metadata": {},
     "output_type": "execute_result"
    }
   ],
   "source": [
    "my_tuple"
   ]
  },
  {
   "cell_type": "code",
   "execution_count": 42,
   "id": "04d8f9f8-4837-45c7-a094-819cf977b853",
   "metadata": {},
   "outputs": [],
   "source": [
    "my_tuple.sort(key=lambda x: x[1])"
   ]
  },
  {
   "cell_type": "code",
   "execution_count": 39,
   "id": "a0b7afcd-e950-413c-9649-66aa850b923b",
   "metadata": {},
   "outputs": [
    {
     "data": {
      "text/plain": [
       "[('Virat Kohli', 24936),\n",
       " ('Jack Kallis', 25534),\n",
       " ('Ricky Ponting', 27483),\n",
       " ('Sachin Tendulkar', 34357)]"
      ]
     },
     "execution_count": 39,
     "metadata": {},
     "output_type": "execute_result"
    }
   ],
   "source": [
    "my_tuple"
   ]
  },
  {
   "cell_type": "markdown",
   "id": "58469fe6-6947-47d6-b891-cc2db984677e",
   "metadata": {},
   "source": [
    "`OR`"
   ]
  },
  {
   "cell_type": "code",
   "execution_count": 43,
   "id": "92cc5c5d-6d83-47ac-8c35-dc3406bbb583",
   "metadata": {},
   "outputs": [
    {
     "name": "stdout",
     "output_type": "stream",
     "text": [
      "[('Virat Kohli', 24936), ('Jack Kallis', 25534), ('Ricky Ponting', 27483), ('Sachin Tendulkar', 34357)]\n"
     ]
    }
   ],
   "source": [
    "y = sorted(my_tuple, key =lambda a: len(a))\n",
    "print(y)"
   ]
  },
  {
   "cell_type": "markdown",
   "id": "d7438571-b0cc-4a70-8b3d-d5489ff52540",
   "metadata": {},
   "source": [
    "`OR`"
   ]
  },
  {
   "cell_type": "code",
   "execution_count": 47,
   "id": "4cfbd561-8f6b-4a9c-b812-ff1779ecaf0c",
   "metadata": {},
   "outputs": [],
   "source": [
    "z=list(filter(lambda x: x[1], my_tuple))"
   ]
  },
  {
   "cell_type": "code",
   "execution_count": 50,
   "id": "fec6a827-cc8a-4cb3-9fb2-282c61d25b34",
   "metadata": {},
   "outputs": [
    {
     "data": {
      "text/plain": [
       "[('Virat Kohli', 24936),\n",
       " ('Jack Kallis', 25534),\n",
       " ('Ricky Ponting', 27483),\n",
       " ('Sachin Tendulkar', 34357)]"
      ]
     },
     "execution_count": 50,
     "metadata": {},
     "output_type": "execute_result"
    }
   ],
   "source": [
    "z"
   ]
  },
  {
   "cell_type": "markdown",
   "id": "52bd6c77-e0e8-4a55-8091-7ef2c2b0a5ab",
   "metadata": {},
   "source": [
    "Q2. Write a Python Program to find the squares of all the numbers in the given list of integers using lambda and map functions."
   ]
  },
  {
   "cell_type": "code",
   "execution_count": 1,
   "id": "a310c2c7-ef78-46fd-8b27-008af6314060",
   "metadata": {},
   "outputs": [],
   "source": [
    "Given_list =[1, 2, 3, 4, 5, 6, 7, 8, 9, 10]"
   ]
  },
  {
   "cell_type": "code",
   "execution_count": 3,
   "id": "29f92be0-7797-432f-8e2c-2038a91942ea",
   "metadata": {},
   "outputs": [],
   "source": [
    "Square_of_list=list(map(lambda x :x**2,Given_list))"
   ]
  },
  {
   "cell_type": "code",
   "execution_count": 4,
   "id": "74111281-da10-472c-89f8-dbb67d2fc9e6",
   "metadata": {},
   "outputs": [
    {
     "data": {
      "text/plain": [
       "[1, 4, 9, 16, 25, 36, 49, 64, 81, 100]"
      ]
     },
     "execution_count": 4,
     "metadata": {},
     "output_type": "execute_result"
    }
   ],
   "source": [
    "Square_of_list"
   ]
  },
  {
   "cell_type": "markdown",
   "id": "137914a9-fcbf-4b9a-9b6b-dc7c9e57b128",
   "metadata": {},
   "source": [
    "Q3. Write a python program to convert the given list of integers into a tuple of strings. Use map and lambda functions"
   ]
  },
  {
   "cell_type": "code",
   "execution_count": 5,
   "id": "7ee6bd9f-0d4a-45e5-ad22-00e40c5ed94e",
   "metadata": {},
   "outputs": [],
   "source": [
    "Given_Numbers =[1, 2, 3, 4, 5, 6, 7, 8, 9, 10]"
   ]
  },
  {
   "cell_type": "code",
   "execution_count": 6,
   "id": "36ac1c6a-df39-46fc-94d9-8adbde8c32b3",
   "metadata": {},
   "outputs": [],
   "source": [
    "convert_into_string =tuple(map(lambda x: str(x),Given_Numbers))"
   ]
  },
  {
   "cell_type": "code",
   "execution_count": 7,
   "id": "489f0e1b-05f9-43ee-9c9c-25a1eb10963c",
   "metadata": {},
   "outputs": [
    {
     "data": {
      "text/plain": [
       "('1', '2', '3', '4', '5', '6', '7', '8', '9', '10')"
      ]
     },
     "execution_count": 7,
     "metadata": {},
     "output_type": "execute_result"
    }
   ],
   "source": [
    "convert_into_string"
   ]
  },
  {
   "cell_type": "markdown",
   "id": "a11a6597-77c4-4e83-9a00-6131e93b151a",
   "metadata": {},
   "source": [
    "Q4. Write a python program using reduce function to compute the product of a list containing numbers from 1 to 25."
   ]
  },
  {
   "cell_type": "code",
   "execution_count": 8,
   "id": "a97357ca-5808-4403-b432-b1c74db1051b",
   "metadata": {},
   "outputs": [],
   "source": [
    "list_contain =[]\n",
    "for i in range(1,25+1):\n",
    "    list_contain.append(i)"
   ]
  },
  {
   "cell_type": "code",
   "execution_count": 10,
   "id": "5f369312-afb7-45d7-b221-7a20655271de",
   "metadata": {},
   "outputs": [
    {
     "name": "stdout",
     "output_type": "stream",
     "text": [
      "[1, 2, 3, 4, 5, 6, 7, 8, 9, 10, 11, 12, 13, 14, 15, 16, 17, 18, 19, 20, 21, 22, 23, 24, 25] "
     ]
    }
   ],
   "source": [
    "print(list_contain,end =\" \")"
   ]
  },
  {
   "cell_type": "code",
   "execution_count": 11,
   "id": "ef176547-0c6b-437c-9693-bc8b04f02948",
   "metadata": {},
   "outputs": [],
   "source": [
    "from functools import reduce"
   ]
  },
  {
   "cell_type": "code",
   "execution_count": 25,
   "id": "634a2d16-55ef-4e1d-91fb-a40732f2b5bb",
   "metadata": {},
   "outputs": [],
   "source": [
    "product_of_list=reduce((lambda x,y: x*y),list_contain)"
   ]
  },
  {
   "cell_type": "code",
   "execution_count": 26,
   "id": "46d7fb0e-4e6f-42c8-a661-fd455bf402f3",
   "metadata": {},
   "outputs": [
    {
     "data": {
      "text/plain": [
       "15511210043330985984000000"
      ]
     },
     "execution_count": 26,
     "metadata": {},
     "output_type": "execute_result"
    }
   ],
   "source": [
    "product_of_list"
   ]
  },
  {
   "cell_type": "code",
   "execution_count": 19,
   "id": "368f1d18-f54c-4d79-b2f6-45fb55fd28be",
   "metadata": {},
   "outputs": [],
   "source": [
    "def test0(a,b):\n",
    "    return a*b"
   ]
  },
  {
   "cell_type": "code",
   "execution_count": 21,
   "id": "04ce90b5-2895-4848-bf96-c3a2ad6fceeb",
   "metadata": {},
   "outputs": [],
   "source": [
    "ans =reduce(test0,list_contain)"
   ]
  },
  {
   "cell_type": "code",
   "execution_count": 22,
   "id": "ab61d5f6-3f2d-4497-a828-8bb4fcff43e0",
   "metadata": {},
   "outputs": [
    {
     "data": {
      "text/plain": [
       "15511210043330985984000000"
      ]
     },
     "execution_count": 22,
     "metadata": {},
     "output_type": "execute_result"
    }
   ],
   "source": [
    "ans"
   ]
  },
  {
   "cell_type": "code",
   "execution_count": 28,
   "id": "5fdfcf89-6ab9-4345-8220-2f85c82f8e69",
   "metadata": {},
   "outputs": [],
   "source": [
    "import math\n",
    "\n",
    "m =math.prod(list_contain)"
   ]
  },
  {
   "cell_type": "code",
   "execution_count": 29,
   "id": "843b4249-0812-4223-a8fc-46f35d3f3e5c",
   "metadata": {},
   "outputs": [
    {
     "data": {
      "text/plain": [
       "15511210043330985984000000"
      ]
     },
     "execution_count": 29,
     "metadata": {},
     "output_type": "execute_result"
    }
   ],
   "source": [
    "m"
   ]
  },
  {
   "cell_type": "markdown",
   "id": "acb74936-8ac8-49af-9ba9-e4cd0a27988d",
   "metadata": {},
   "source": [
    "Q5. Write a python program to filter the numbers in a given list that are divisible by 2 and 3 using the filter function."
   ]
  },
  {
   "cell_type": "code",
   "execution_count": 31,
   "id": "42af692f-8e85-4a8e-8b81-d51c6d4e980e",
   "metadata": {},
   "outputs": [
    {
     "name": "stdout",
     "output_type": "stream",
     "text": [
      "[2, 3, 6, 9, 27, 60, 90, 120, 55, 46]\n"
     ]
    }
   ],
   "source": [
    "lst = [2, 3, 6, 9, 27, 60, 90, 120, 55, 46]\n",
    "print(lst)"
   ]
  },
  {
   "cell_type": "code",
   "execution_count": 41,
   "id": "85283403-b765-43bd-add0-a3e609147b4c",
   "metadata": {},
   "outputs": [],
   "source": [
    "divisible_by2 =list(filter(lambda x : x%2 ==0,lst))"
   ]
  },
  {
   "cell_type": "code",
   "execution_count": 42,
   "id": "966b78c0-54d9-4111-acd1-8e678a3f9441",
   "metadata": {},
   "outputs": [
    {
     "data": {
      "text/plain": [
       "[2, 6, 60, 90, 120, 46]"
      ]
     },
     "execution_count": 42,
     "metadata": {},
     "output_type": "execute_result"
    }
   ],
   "source": [
    "divisible_by2"
   ]
  },
  {
   "cell_type": "code",
   "execution_count": 43,
   "id": "001b671b-4d57-41f9-bb9f-b41ee072ea0a",
   "metadata": {},
   "outputs": [],
   "source": [
    "divisible_by2_3 =list(filter(lambda x : x%2==0 and x%3 ==0,lst))"
   ]
  },
  {
   "cell_type": "code",
   "execution_count": 44,
   "id": "9266ee99-bca9-49b8-b05a-509b1b632c06",
   "metadata": {},
   "outputs": [
    {
     "data": {
      "text/plain": [
       "[6, 60, 90, 120]"
      ]
     },
     "execution_count": 44,
     "metadata": {},
     "output_type": "execute_result"
    }
   ],
   "source": [
    "divisible_by2_3"
   ]
  },
  {
   "cell_type": "markdown",
   "id": "d75e8303-cf7e-4b27-b8c6-241f0a7f36b6",
   "metadata": {},
   "source": [
    "Q6. Write a python program to find palindromes in the given list of strings using lambda and filter function.\n",
    "\n"
   ]
  },
  {
   "cell_type": "code",
   "execution_count": 54,
   "id": "c324cad4-9c03-4479-a3c3-7ea3e02a7fbc",
   "metadata": {},
   "outputs": [],
   "source": [
    "pali_drome =['python', 'php', 'aba', 'radar', 'level','malayalam','nayan','arora']"
   ]
  },
  {
   "cell_type": "code",
   "execution_count": 55,
   "id": "e4b487a8-21e2-414f-a370-c955178ef504",
   "metadata": {},
   "outputs": [],
   "source": [
    "filter_palindrome =list(filter(lambda x: x == x[::-1],pali_drome))"
   ]
  },
  {
   "cell_type": "code",
   "execution_count": 56,
   "id": "e43e4e35-abad-408a-8fe4-eada6941b2ae",
   "metadata": {},
   "outputs": [
    {
     "data": {
      "text/plain": [
       "['php', 'aba', 'radar', 'level', 'malayalam', 'nayan', 'arora']"
      ]
     },
     "execution_count": 56,
     "metadata": {},
     "output_type": "execute_result"
    }
   ],
   "source": [
    "filter_palindrome"
   ]
  },
  {
   "cell_type": "code",
   "execution_count": null,
   "id": "4e26a95c-50f4-4f67-a44d-30c5b3804351",
   "metadata": {},
   "outputs": [],
   "source": []
  }
 ],
 "metadata": {
  "kernelspec": {
   "display_name": "Python 3 (ipykernel)",
   "language": "python",
   "name": "python3"
  },
  "language_info": {
   "codemirror_mode": {
    "name": "ipython",
    "version": 3
   },
   "file_extension": ".py",
   "mimetype": "text/x-python",
   "name": "python",
   "nbconvert_exporter": "python",
   "pygments_lexer": "ipython3",
   "version": "3.10.8"
  }
 },
 "nbformat": 4,
 "nbformat_minor": 5
}
