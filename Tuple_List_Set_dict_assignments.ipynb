{
 "cells": [
  {
   "cell_type": "markdown",
   "id": "3b1a70ac-a40d-4605-a3d7-56d39451c56f",
   "metadata": {},
   "source": [
    "## `Assignments on Tuple_List_Set_dict-1`"
   ]
  },
  {
   "cell_type": "markdown",
   "id": "18097dfb-b023-43d7-97e4-fd28ca57d31e",
   "metadata": {},
   "source": [
    "`Q1. What are the characteristics of the tuples? Is tuple immutable?`\n",
    "\n",
    "Ans :- Tuple is used to store the multiple elements in sigle variable or collection of elements \n",
    "       is store in sigle variable.tuple is define in `()` bracket\n",
    "       \n",
    "1. Tuple iteams are ordered,immutable,its allow duplicate.       "
   ]
  },
  {
   "cell_type": "markdown",
   "id": "e2fd8190-2e8e-43eb-846f-ff73051254ab",
   "metadata": {},
   "source": [
    "`Q2. What are the two tuple methods in python? Give an example of each method. Give a reason why\n",
    "tuples have only two in-built methods as compared to Lists.`\n",
    "\n",
    "Ans:- Tuple have 2 built in method in python which is count & Index.list is size of more flexible data structure.tuple is fixed size due to immutable nature."
   ]
  },
  {
   "cell_type": "code",
   "execution_count": 2,
   "id": "e8e1bf79-a185-4ca5-ae9e-e331024e5048",
   "metadata": {},
   "outputs": [
    {
     "name": "stdout",
     "output_type": "stream",
     "text": [
      "(1, 2, 3, 4, 5, 3, 4, 5, 6)\n"
     ]
    }
   ],
   "source": [
    "t1 =(1,2,3,4,5,3,4,5,6)\n",
    "print(t1)"
   ]
  },
  {
   "cell_type": "code",
   "execution_count": 3,
   "id": "26adef4b-3a2d-4906-b7cc-12103dcb5774",
   "metadata": {},
   "outputs": [
    {
     "data": {
      "text/plain": [
       "2"
      ]
     },
     "execution_count": 3,
     "metadata": {},
     "output_type": "execute_result"
    }
   ],
   "source": [
    "# Return number of occurrences of value.\n",
    "\n",
    "t1.count(3)"
   ]
  },
  {
   "cell_type": "code",
   "execution_count": 4,
   "id": "6c52fb99-5ecb-4a5e-a2d5-fa207ddd9751",
   "metadata": {},
   "outputs": [
    {
     "data": {
      "text/plain": [
       "3"
      ]
     },
     "execution_count": 4,
     "metadata": {},
     "output_type": "execute_result"
    }
   ],
   "source": [
    "# Return first index of value.\n",
    "t1.index(4)"
   ]
  },
  {
   "cell_type": "markdown",
   "id": "74468d08-04df-4434-b1f4-0262052862f5",
   "metadata": {},
   "source": [
    "`Q3. Which collection datatypes in python do not allow duplicate items? Write a code using a set to remove duplicates from the given list.`\n",
    "\n",
    "Ans:= Set collection of data type is not allow duplicate iteams"
   ]
  },
  {
   "cell_type": "code",
   "execution_count": 5,
   "id": "9e5a00c6-217e-4bc1-aff5-cf737eca8b1b",
   "metadata": {},
   "outputs": [],
   "source": [
    "List = [1, 1, 1, 2, 1, 3, 1, 4, 2, 1, 2, 2, 2, 3, 2, 4, 3, 1, 3, 2, 3, 3, 3, 4, 4, 1, 4, 2, 4, 3, 4, 4]"
   ]
  },
  {
   "cell_type": "code",
   "execution_count": 6,
   "id": "289b3851-46a3-4e17-96ac-856c1454a864",
   "metadata": {},
   "outputs": [
    {
     "name": "stdout",
     "output_type": "stream",
     "text": [
      "[1, 1, 1, 2, 1, 3, 1, 4, 2, 1, 2, 2, 2, 3, 2, 4, 3, 1, 3, 2, 3, 3, 3, 4, 4, 1, 4, 2, 4, 3, 4, 4]\n"
     ]
    }
   ],
   "source": [
    "print(List)"
   ]
  },
  {
   "cell_type": "code",
   "execution_count": 7,
   "id": "ee6a1156-9a89-4aec-86cc-f73ab5e1d1e5",
   "metadata": {},
   "outputs": [
    {
     "data": {
      "text/plain": [
       "{1, 2, 3, 4}"
      ]
     },
     "execution_count": 7,
     "metadata": {},
     "output_type": "execute_result"
    }
   ],
   "source": [
    "set(List)"
   ]
  },
  {
   "cell_type": "markdown",
   "id": "281b552a-89b4-469f-9616-494aa1fc7279",
   "metadata": {},
   "source": [
    "`Q4. Explain the difference between the union() and update() methods for a set. Give an example of\n",
    "each method.`\n",
    "\n",
    "Ans :\n",
    "    `Union func` :union function is combine the element from two set without duplicates.\n",
    "    \n",
    "    `Update function` :update function is combine set of elements in single tuple."
   ]
  },
  {
   "cell_type": "code",
   "execution_count": 22,
   "id": "45183bd6-067c-4ef3-9b2b-e2f612f36ffc",
   "metadata": {},
   "outputs": [
    {
     "data": {
      "text/plain": [
       "{1, 2, 3, 4, 5, 6, 7, 8}"
      ]
     },
     "execution_count": 22,
     "metadata": {},
     "output_type": "execute_result"
    }
   ],
   "source": [
    "t2 ={1,2,3,4}\n",
    "t3 ={5,4,6,7,8}\n",
    "t2.union(t3)"
   ]
  },
  {
   "cell_type": "code",
   "execution_count": 28,
   "id": "dc8152be-8be2-4140-806d-3d9c843832a4",
   "metadata": {},
   "outputs": [],
   "source": [
    "t2.update(t3)"
   ]
  },
  {
   "cell_type": "code",
   "execution_count": 30,
   "id": "fea61ae9-62b5-4dc9-973a-44c4d6b6c2ed",
   "metadata": {},
   "outputs": [
    {
     "data": {
      "text/plain": [
       "{1, 2, 3, 4, 5, 6, 7, 8}"
      ]
     },
     "execution_count": 30,
     "metadata": {},
     "output_type": "execute_result"
    }
   ],
   "source": [
    "t2"
   ]
  },
  {
   "cell_type": "markdown",
   "id": "92dadeb4-dfbe-4361-a5e1-778b1177806f",
   "metadata": {},
   "source": [
    "`Q5. What is a dictionary? Give an example. Also, state whether a dictionary is ordered or unordered`\n",
    "\n",
    "Ans := Ditctionary is used to store multiple iteams in key value pairs.\n",
    "\n",
    "Ditionary is collection of order elements it is mutable, not index, its not allowed duplicates."
   ]
  },
  {
   "cell_type": "code",
   "execution_count": 31,
   "id": "ca109be2-0c08-48b6-9f5c-6176913349fb",
   "metadata": {},
   "outputs": [
    {
     "name": "stdout",
     "output_type": "stream",
     "text": [
      "{'Name': 'Bhushan', 'City': 'Pune', 'Course': 'Data science master'}\n"
     ]
    }
   ],
   "source": [
    "dct ={\"Name\":\"Bhushan\",\"City\":\"Pune\",\"Course\":\"Data science master\"}\n",
    "print(dct)"
   ]
  },
  {
   "cell_type": "markdown",
   "id": "83544c0a-25b0-4cc7-8e0e-827e842b7c1d",
   "metadata": {},
   "source": [
    "`Q6. Can we create a nested dictionary? If so, please give an example by creating a simple one-level nested dictionary.`\n",
    "\n",
    "Ans:= Yes, We can create nested dictionary."
   ]
  },
  {
   "cell_type": "code",
   "execution_count": 35,
   "id": "81f4b173-7d5e-4c42-b8b5-5a286c6d74ee",
   "metadata": {},
   "outputs": [],
   "source": [
    "myfamily = { \"child1\" : {\"name\" : \"Emil\",\"year\" : 2004},\n",
    "            \"child2\" : {\"name\" : \"Tobias\",\"year\" : 2007}}"
   ]
  },
  {
   "cell_type": "code",
   "execution_count": 36,
   "id": "88a39cb0-b52b-4c9e-8246-e924b324af8f",
   "metadata": {},
   "outputs": [
    {
     "name": "stdout",
     "output_type": "stream",
     "text": [
      "{'child1': {'name': 'Emil', 'year': 2004}, 'child2': {'name': 'Tobias', 'year': 2007}}\n"
     ]
    }
   ],
   "source": [
    "print(myfamily)"
   ]
  },
  {
   "cell_type": "markdown",
   "id": "c971c25e-08bb-481c-ac85-35bd26f354fc",
   "metadata": {},
   "source": [
    "`Q7. Using setdefault() method, create key named topics in the given dictionary and also add the value of the key as this list ['Python', 'Machine Learning’, 'Deep Learning']`\n",
    "\n",
    "Ans:= The setdefault() method returns the value of the item with the specified key."
   ]
  },
  {
   "cell_type": "code",
   "execution_count": 4,
   "id": "ffe96577-7d48-42f2-b9f1-f670df5eb731",
   "metadata": {},
   "outputs": [],
   "source": [
    "dict1 = {'language' : 'Python', 'course': 'Data Science Masters'}"
   ]
  },
  {
   "cell_type": "code",
   "execution_count": 14,
   "id": "c9db04ff-a082-4762-bcb4-50b87520fb2a",
   "metadata": {},
   "outputs": [],
   "source": [
    "dict1['topics']= \"python\",\"Machine_learning\",\"Deep_learning\""
   ]
  },
  {
   "cell_type": "code",
   "execution_count": 15,
   "id": "f866f9a1-c59d-41b2-a5b0-f64c238b5a32",
   "metadata": {},
   "outputs": [
    {
     "data": {
      "text/plain": [
       "{'language': 'Python',\n",
       " 'course': 'Data Science Masters',\n",
       " 'topics': ('python', 'Machine_learning', 'Deep_learning')}"
      ]
     },
     "execution_count": 15,
     "metadata": {},
     "output_type": "execute_result"
    }
   ],
   "source": [
    "dict1"
   ]
  },
  {
   "cell_type": "code",
   "execution_count": 16,
   "id": "0c40ef37-e74f-4d90-8630-18693cb33d94",
   "metadata": {},
   "outputs": [],
   "source": [
    "x =dict1.setdefault('topics','python')"
   ]
  },
  {
   "cell_type": "code",
   "execution_count": 17,
   "id": "9a5827c0-1a44-453e-a5c4-c6fe2e92704d",
   "metadata": {},
   "outputs": [
    {
     "data": {
      "text/plain": [
       "('python', 'Machine_learning', 'Deep_learning')"
      ]
     },
     "execution_count": 17,
     "metadata": {},
     "output_type": "execute_result"
    }
   ],
   "source": [
    "x"
   ]
  },
  {
   "cell_type": "markdown",
   "id": "4a1960ec-26ab-437d-9f5f-f295d15df5ae",
   "metadata": {},
   "source": [
    "`Q8. What are the three view objects in dictionaries? Use the three in-built methods in python to display these three view objects for the given dictionary.`"
   ]
  },
  {
   "cell_type": "code",
   "execution_count": 18,
   "id": "4c5952e4-1bc1-43a7-b9ce-772ddb595427",
   "metadata": {},
   "outputs": [],
   "source": [
    "dict2 = {'Sport': 'Cricket' , 'Teams': ['India', 'Australia', 'England', 'South Africa', 'Sri Lanka', 'New Zealand']}"
   ]
  },
  {
   "cell_type": "code",
   "execution_count": 20,
   "id": "1543fbd3-ae7c-4c16-94db-1c732bfa7e76",
   "metadata": {},
   "outputs": [
    {
     "data": {
      "text/plain": [
       "dict_items([('Sport', 'Cricket'), ('Teams', ['India', 'Australia', 'England', 'South Africa', 'Sri Lanka', 'New Zealand'])])"
      ]
     },
     "execution_count": 20,
     "metadata": {},
     "output_type": "execute_result"
    }
   ],
   "source": [
    "dict2.items()"
   ]
  },
  {
   "cell_type": "code",
   "execution_count": 21,
   "id": "9932340d-24cc-4788-a3ca-8babababb8ed",
   "metadata": {},
   "outputs": [
    {
     "data": {
      "text/plain": [
       "dict_values(['Cricket', ['India', 'Australia', 'England', 'South Africa', 'Sri Lanka', 'New Zealand']])"
      ]
     },
     "execution_count": 21,
     "metadata": {},
     "output_type": "execute_result"
    }
   ],
   "source": [
    "dict2.values()"
   ]
  },
  {
   "cell_type": "code",
   "execution_count": 22,
   "id": "4db418ba-1455-4d76-92e3-3ef27bd16a27",
   "metadata": {},
   "outputs": [
    {
     "data": {
      "text/plain": [
       "dict_keys(['Sport', 'Teams'])"
      ]
     },
     "execution_count": 22,
     "metadata": {},
     "output_type": "execute_result"
    }
   ],
   "source": [
    "dict2.keys()"
   ]
  },
  {
   "cell_type": "code",
   "execution_count": null,
   "id": "4153aea8-85bf-4060-b662-60b1e67cfcf8",
   "metadata": {},
   "outputs": [],
   "source": []
  }
 ],
 "metadata": {
  "kernelspec": {
   "display_name": "Python 3 (ipykernel)",
   "language": "python",
   "name": "python3"
  },
  "language_info": {
   "codemirror_mode": {
    "name": "ipython",
    "version": 3
   },
   "file_extension": ".py",
   "mimetype": "text/x-python",
   "name": "python",
   "nbconvert_exporter": "python",
   "pygments_lexer": "ipython3",
   "version": "3.10.8"
  }
 },
 "nbformat": 4,
 "nbformat_minor": 5
}
