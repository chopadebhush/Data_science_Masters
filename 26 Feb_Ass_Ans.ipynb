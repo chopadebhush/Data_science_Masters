{
 "cells": [
  {
   "cell_type": "code",
   "execution_count": null,
   "id": "132a717a",
   "metadata": {},
   "outputs": [],
   "source": [
    "# Consider the below code to answer further questions:\n",
    "# import numpy as np\n",
    "# list_ = [ ‘1’ , ’2’ , ‘3’ , ‘4’ , ‘5’ ]\n",
    "# array_list = np.array(object = list_)\n",
    "\n",
    "# Q1. Is there any difference in the data type of variables list_ and array_list? If there is then write a code\n",
    "# to print the data types of both the variables."
   ]
  },
  {
   "cell_type": "markdown",
   "id": "c3a10215",
   "metadata": {},
   "source": [
    "# Q1. Is there any difference in the data type of variables list_ and array_list? If there is then write a code to print the data types of both the variables."
   ]
  },
  {
   "cell_type": "markdown",
   "id": "cb9d66ae",
   "metadata": {},
   "source": [
    "Yes, there is a difference in the data type of the variables list_ and array_list.\n",
    "\n",
    "list_ is a Python list that contains string objects, while array_list is a NumPy array that also contains string objects. However, the data type of the objects in array_list is different from the data type of objects in list_.\n",
    "\n",
    "The objects in list_ are of type str, while the objects in array_list are of type numpy.str_.\n",
    "\n",
    "Here is the code to print the data types of both the variables:"
   ]
  },
  {
   "cell_type": "code",
   "execution_count": 7,
   "id": "1febf475",
   "metadata": {},
   "outputs": [
    {
     "name": "stdout",
     "output_type": "stream",
     "text": [
      "Data type of list_: <class 'list'>\n",
      "Data type of data in list_: <class 'str'>\n",
      "Data type of array_list: <class 'numpy.ndarray'>\n",
      "Data type of data in  array_list: <class 'numpy.str_'>\n"
     ]
    }
   ],
   "source": [
    "import numpy as np\n",
    "\n",
    "list_ = ['1', '2', '3', '4', '5']\n",
    "array_list = np.array(object=list_)\n",
    "\n",
    "print(\"Data type of list_:\", type(list_))\n",
    "print(\"Data type of data in list_:\", type(list_[0]))\n",
    "print(\"Data type of array_list:\", type(array_list))\n",
    "print(\"Data type of data in  array_list:\", type(array_list[0]))\n"
   ]
  },
  {
   "cell_type": "markdown",
   "id": "a55466ff",
   "metadata": {},
   "source": [
    "# Q2. Write a code to print the data type of each and every element of both the variables list_ and arra_list."
   ]
  },
  {
   "cell_type": "code",
   "execution_count": 18,
   "id": "56d4420a",
   "metadata": {},
   "outputs": [
    {
     "name": "stdout",
     "output_type": "stream",
     "text": [
      "Data type of 1 in _list is <class 'str'>\n",
      "Data type of 2 in _list is <class 'str'>\n",
      "Data type of 3 in _list is <class 'str'>\n",
      "Data type of 4 in _list is <class 'str'>\n",
      "Data type of 5 in _list is <class 'str'>\n",
      "\n",
      "Data type of 1 in array_list is <class 'numpy.str_'>\n",
      "Data type of 2 in array_list is <class 'numpy.str_'>\n",
      "Data type of 3 in array_list is <class 'numpy.str_'>\n",
      "Data type of 4 in array_list is <class 'numpy.str_'>\n",
      "Data type of 5 in array_list is <class 'numpy.str_'>\n"
     ]
    }
   ],
   "source": [
    "import numpy as np\n",
    "\n",
    "list_ = ['1', '2', '3', '4', '5']\n",
    "array_list = np.array(object=list_)\n",
    "\n",
    "#Printing data types of all element in list_\n",
    "for ele in list_:\n",
    "    print(f\"Data type of {ele} in _list is {type(ele)}\")\n",
    "    \n",
    "print()\n",
    "\n",
    "#Printing data types of all element in array_list\n",
    "for ele in array_list:\n",
    "     print(f\"Data type of {ele} in array_list is {type(ele)}\")"
   ]
  },
  {
   "cell_type": "markdown",
   "id": "40355cdd",
   "metadata": {},
   "source": [
    "# Q3. Considering the following changes in the variable, array_list: \n",
    "\n",
    "\n",
    "\n"
   ]
  },
  {
   "cell_type": "markdown",
   "id": "89c803a5",
   "metadata": {},
   "source": [
    "# array_list = np.array(object = list_, dtype = int)"
   ]
  },
  {
   "cell_type": "markdown",
   "id": "e25471b4",
   "metadata": {},
   "source": [
    "# Will there be any difference in the data type of the elements present in both the variables, list_ and array_list? If so then print the data types of each and every element present in both the variables, list_and arra_list."
   ]
  },
  {
   "cell_type": "markdown",
   "id": "8186a422",
   "metadata": {},
   "source": [
    "Yes, there will be a difference in the data type of the elements present in the variables list_ and array_list.\n",
    "\n",
    "The dtype=int parameter in np.array(object=list_, dtype=int) specifies that the data type of the elements in the resulting NumPy array should be integers. Since the input sequence (list_) contains strings, NumPy will try to convert each string element to an integer. If any element in the input sequence cannot be converted to an integer, a ValueError will be raised.\n",
    "\n",
    "Here is the code to print the data types of each and every element present in both the variables, list_ and array_list after the change:"
   ]
  },
  {
   "cell_type": "code",
   "execution_count": 20,
   "id": "71be80fe",
   "metadata": {},
   "outputs": [
    {
     "name": "stdout",
     "output_type": "stream",
     "text": [
      "Data type of 1 in _list is <class 'str'>\n",
      "Data type of 2 in _list is <class 'str'>\n",
      "Data type of 3 in _list is <class 'str'>\n",
      "Data type of 4 in _list is <class 'str'>\n",
      "Data type of 5 in _list is <class 'str'>\n",
      "\n",
      "Data type of 1 in array_list is <class 'numpy.int32'>\n",
      "Data type of 2 in array_list is <class 'numpy.int32'>\n",
      "Data type of 3 in array_list is <class 'numpy.int32'>\n",
      "Data type of 4 in array_list is <class 'numpy.int32'>\n",
      "Data type of 5 in array_list is <class 'numpy.int32'>\n"
     ]
    }
   ],
   "source": [
    "import numpy as np\n",
    "\n",
    "list_ = ['1', '2', '3', '4', '5']\n",
    "array_list = np.array(object = list_, dtype = int)\n",
    "\n",
    "#Printing data types of all element in list_\n",
    "for ele in list_:\n",
    "    print(f\"Data type of {ele} in _list is {type(ele)}\")\n",
    "    \n",
    "print()\n",
    "\n",
    "#Printing data types of all element in array_list\n",
    "for ele in array_list:\n",
    "     print(f\"Data type of {ele} in array_list is {type(ele)}\")"
   ]
  },
  {
   "cell_type": "markdown",
   "id": "c2f7b44d",
   "metadata": {},
   "source": [
    "As you can see, the elements in list_ are of type str, while the elements in array_list are of type numpy.int64 after the conversion."
   ]
  },
  {
   "cell_type": "code",
   "execution_count": null,
   "id": "b9b7413d",
   "metadata": {},
   "outputs": [],
   "source": [
    "Consider the below code to answer further questions:\n",
    "import numpy as np\n",
    "num_list = [ [ 1 , 2 , 3 ] , [ 4 , 5 , 6 ] ]\n",
    "num_array = np.array(object = num_list)\n",
    "\n",
    "Q4. Write a code to find the following characteristics of variable, num_array:\n",
    "(i) shape\n",
    "(ii) size"
   ]
  },
  {
   "cell_type": "markdown",
   "id": "607f47e6",
   "metadata": {},
   "source": [
    "# Q4. Write a code to find the following characteristics of variable, num_array:\n",
    "# (i) shape\n",
    "# (ii) size"
   ]
  },
  {
   "cell_type": "markdown",
   "id": "5e953b90",
   "metadata": {},
   "source": [
    "Here's the code to find the shape and size of the NumPy array num_array"
   ]
  },
  {
   "cell_type": "code",
   "execution_count": 23,
   "id": "ca59e78d",
   "metadata": {},
   "outputs": [
    {
     "name": "stdout",
     "output_type": "stream",
     "text": [
      "Shape of num_array: (2, 3)\n",
      "Size of num_array: 6\n"
     ]
    }
   ],
   "source": [
    "import numpy as np\n",
    "\n",
    "num_list = [[1, 2, 3], [4, 5, 6]]\n",
    "num_array = np.array(object=num_list)\n",
    "\n",
    "# Find the shape of num_array\n",
    "print(\"Shape of num_array:\", num_array.shape)\n",
    "\n",
    "# Find the size of num_array\n",
    "print(\"Size of num_array:\", num_array.size)\n"
   ]
  },
  {
   "cell_type": "markdown",
   "id": "b13d8326",
   "metadata": {},
   "source": [
    "As you can see, the shape of num_array is (2, 3), which means it has 2 rows and 3 columns. The size of num_array is 6, which is the total number of elements in the array."
   ]
  },
  {
   "cell_type": "markdown",
   "id": "25b4d788",
   "metadata": {},
   "source": [
    "# Q5. Write a code to create numpy array of 3*3 matrix containing zeros only, using a numpy array creation function. [Hint: The size of the array will be 9 and the shape will be (3,3).]"
   ]
  },
  {
   "cell_type": "markdown",
   "id": "a12aabac",
   "metadata": {},
   "source": [
    "Here's the code to create a NumPy array of 3x3 matrix containing zeros only:"
   ]
  },
  {
   "cell_type": "code",
   "execution_count": 27,
   "id": "720c4c60",
   "metadata": {},
   "outputs": [
    {
     "name": "stdout",
     "output_type": "stream",
     "text": [
      "[[0. 0. 0.]\n",
      " [0. 0. 0.]\n",
      " [0. 0. 0.]]\n"
     ]
    }
   ],
   "source": [
    "import numpy as np\n",
    "\n",
    "# Create a NumPy array of 3x3 matrix containing zeros only\n",
    "zeros_array = np.zeros((3, 3))\n",
    "\n",
    "# Print the array\n",
    "print(zeros_array)\n"
   ]
  },
  {
   "cell_type": "markdown",
   "id": "04e511b3",
   "metadata": {},
   "source": [
    "The np.zeros((3, 3)) function creates a NumPy array of shape (3, 3) and fills it with zeros."
   ]
  },
  {
   "cell_type": "markdown",
   "id": "4980d1a1",
   "metadata": {},
   "source": [
    "# Q6. Create an identity matrix of shape (5,5) using numpy functions? [Hint: An identity matrix is a matrix containing 1 diagonally and other elements will be 0.]"
   ]
  },
  {
   "cell_type": "markdown",
   "id": "a56af006",
   "metadata": {},
   "source": [
    "Here's the code to create an identity matrix of shape (5, 5) using NumPy functions:"
   ]
  },
  {
   "cell_type": "code",
   "execution_count": 32,
   "id": "734f7cad",
   "metadata": {},
   "outputs": [
    {
     "name": "stdout",
     "output_type": "stream",
     "text": [
      "[[1. 0. 0. 0. 0.]\n",
      " [0. 1. 0. 0. 0.]\n",
      " [0. 0. 1. 0. 0.]\n",
      " [0. 0. 0. 1. 0.]\n",
      " [0. 0. 0. 0. 1.]]\n"
     ]
    }
   ],
   "source": [
    "import numpy as np\n",
    "\n",
    "# Create an identity matrix of shape (5, 5)\n",
    "identity_matrix = np.eye(5)\n",
    "\n",
    "# Print the matrix\n",
    "print(identity_matrix)\n"
   ]
  },
  {
   "cell_type": "markdown",
   "id": "e84cc75a",
   "metadata": {},
   "source": [
    "The np.eye(5) function creates an identity matrix of shape (5, 5) where all the diagonal elements are 1 and all other elements are 0."
   ]
  },
  {
   "cell_type": "code",
   "execution_count": null,
   "id": "4d808ecd",
   "metadata": {},
   "outputs": [],
   "source": []
  }
 ],
 "metadata": {
  "kernelspec": {
   "display_name": "Python 3 (ipykernel)",
   "language": "python",
   "name": "python3"
  },
  "language_info": {
   "codemirror_mode": {
    "name": "ipython",
    "version": 3
   },
   "file_extension": ".py",
   "mimetype": "text/x-python",
   "name": "python",
   "nbconvert_exporter": "python",
   "pygments_lexer": "ipython3",
   "version": "3.10.1"
  }
 },
 "nbformat": 4,
 "nbformat_minor": 5
}
