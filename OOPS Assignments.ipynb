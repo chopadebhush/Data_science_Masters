{
 "cells": [
  {
   "cell_type": "markdown",
   "id": "e8473cf2-2525-4022-a26d-0c2778c6701c",
   "metadata": {},
   "source": [
    "Q1. Explain Class and Object with respect to Object-Oriented Programming. Give a suitable example."
   ]
  },
  {
   "cell_type": "markdown",
   "id": "0e03252d-b88a-40c4-ab59-217301400f9a",
   "metadata": {},
   "source": [
    "Ans:- `Class is consider as blueprint of objects. we can define class like as`\n",
    "\n",
    "def class_name:\n",
    "    \n",
    "    class defination\n",
    "    \n"
   ]
  },
  {
   "cell_type": "markdown",
   "id": "3598b9f8-9f5a-41b6-9ce2-89b75cb54320",
   "metadata": {},
   "source": [
    "Object :- `obeject is an instance of class.creation of object is like that`\n",
    "\n",
    "class_var =class_name()"
   ]
  },
  {
   "cell_type": "code",
   "execution_count": 1,
   "id": "dea1e703-9d25-4a79-b3d9-1a75fe1a2a3a",
   "metadata": {},
   "outputs": [],
   "source": [
    "class car:\n",
    "    def __init__(self ,model ,make , year):\n",
    "        self.model =model\n",
    "        self.make =make\n",
    "        self.year =year"
   ]
  },
  {
   "cell_type": "code",
   "execution_count": 3,
   "id": "6f930905-9559-42d3-a173-cd3200724ca5",
   "metadata": {},
   "outputs": [],
   "source": [
    "obj_car =car(\"crysta\",\"toyota\",2019)"
   ]
  },
  {
   "cell_type": "code",
   "execution_count": 4,
   "id": "52cce419-e8de-4791-a2fd-17bce8364b56",
   "metadata": {},
   "outputs": [
    {
     "data": {
      "text/plain": [
       "'toyota'"
      ]
     },
     "execution_count": 4,
     "metadata": {},
     "output_type": "execute_result"
    }
   ],
   "source": [
    "obj_car.make"
   ]
  },
  {
   "cell_type": "code",
   "execution_count": 5,
   "id": "4a45f4c6-9b2b-4e12-ae56-af8f01d8a610",
   "metadata": {},
   "outputs": [
    {
     "data": {
      "text/plain": [
       "2019"
      ]
     },
     "execution_count": 5,
     "metadata": {},
     "output_type": "execute_result"
    }
   ],
   "source": [
    "obj_car.year"
   ]
  },
  {
   "cell_type": "markdown",
   "id": "bfa95202-4dd2-4837-be4a-8dc24437df18",
   "metadata": {},
   "source": [
    "Q2. Name the four pillars of OOPs."
   ]
  },
  {
   "cell_type": "markdown",
   "id": "c37be5de-64d3-48cc-80a0-dcf1dd18f35e",
   "metadata": {},
   "source": [
    "Ans :- \n",
    "1. polymorphism\n",
    "\n",
    "2. Encapsulation\n",
    "3. inheritance\n",
    "4. abstraction\n",
    "\n",
    "these are four piller of oops"
   ]
  },
  {
   "cell_type": "markdown",
   "id": "9de6dc64-ff62-498e-a0b3-32eb4588a343",
   "metadata": {},
   "source": [
    "Q3. Explain why the __init__() function is used. Give a suitable example."
   ]
  },
  {
   "cell_type": "markdown",
   "id": "b372783a-55b7-4683-a91f-1ce30b3f1637",
   "metadata": {},
   "source": [
    "Ans :- init is used to allow class attrubute and methods. init is a constructor in python which directly allocate memory when object is created."
   ]
  },
  {
   "cell_type": "code",
   "execution_count": 7,
   "id": "ab53bdaf-6ce1-498c-9f81-55bfd9431e1a",
   "metadata": {},
   "outputs": [],
   "source": [
    "class Trip:\n",
    "    def __init__(self, to_city, from_city):\n",
    "        self.to_city = to_city\n",
    "        self.from_city = from_city\n",
    " \n",
    "    def holiday(self):\n",
    "        return (\"From: \" + self.from_city + \"\\nTo_city: \" + self.to_city)"
   ]
  },
  {
   "cell_type": "code",
   "execution_count": 8,
   "id": "03bda879-cd25-4e64-92d8-51bd32be7e58",
   "metadata": {},
   "outputs": [
    {
     "name": "stdout",
     "output_type": "stream",
     "text": [
      "From: London\n",
      "To_city: India\n"
     ]
    }
   ],
   "source": [
    "T = Trip('India', 'London')\n",
    "print(T.holiday())"
   ]
  },
  {
   "cell_type": "markdown",
   "id": "8d5e0570-9425-48b0-acee-eefaf533965f",
   "metadata": {},
   "source": [
    "Q4. Why self is used in OOPs?"
   ]
  },
  {
   "cell_type": "markdown",
   "id": "a2a1380e-d44b-4eeb-a392-8ee87b211324",
   "metadata": {},
   "source": [
    "Ans :-self is an instance of class or its is used as pointer of class.we can acess attribute and method \n",
    "from class"
   ]
  },
  {
   "cell_type": "markdown",
   "id": "b534e35d-a66d-4cd2-b15e-874c84f5d2c4",
   "metadata": {},
   "source": [
    "Q5. What is inheritance? Give an example for each type of inheritance."
   ]
  },
  {
   "cell_type": "markdown",
   "id": "d0aa25b7-7b7f-41d7-8d8f-b3744528d12a",
   "metadata": {},
   "source": [
    "Ans :-\n",
    "\n",
    "Inheritance is a mechanism in which one class acquires the property of another class.For example, a child inherits the traits of his/her parents. With inheritance, we can reuse the fields and methods of the existing class."
   ]
  },
  {
   "cell_type": "code",
   "execution_count": 17,
   "id": "1b2a713b-8108-489c-9fad-34689197bf1c",
   "metadata": {},
   "outputs": [],
   "source": [
    "class parent:\n",
    "    def parent_class(self):\n",
    "        print(\"These is my parent class \")"
   ]
  },
  {
   "cell_type": "code",
   "execution_count": 18,
   "id": "ad7c6cb2-0411-4d5f-ac05-bdb4a3b78cc0",
   "metadata": {},
   "outputs": [],
   "source": [
    "class child(parent):\n",
    "    def Child_parent(self):\n",
    "        print(\"These is child class \")"
   ]
  },
  {
   "cell_type": "code",
   "execution_count": 19,
   "id": "994e26a0-0789-4ff6-beac-3e357a9790e6",
   "metadata": {},
   "outputs": [],
   "source": [
    "obj_child =child()"
   ]
  },
  {
   "cell_type": "code",
   "execution_count": 21,
   "id": "59d5da27-0b12-4fdd-aa62-53afb07a533f",
   "metadata": {},
   "outputs": [
    {
     "name": "stdout",
     "output_type": "stream",
     "text": [
      "These is child class \n"
     ]
    }
   ],
   "source": [
    "obj_child.Child_parent()"
   ]
  },
  {
   "cell_type": "code",
   "execution_count": 22,
   "id": "c59073e7-25e5-40ca-9706-689744be9026",
   "metadata": {},
   "outputs": [
    {
     "name": "stdout",
     "output_type": "stream",
     "text": [
      "These is my parent class \n"
     ]
    }
   ],
   "source": [
    "obj_child.parent_class()"
   ]
  },
  {
   "cell_type": "code",
   "execution_count": null,
   "id": "f8ed4e1d-8f50-42e1-a3c7-edbcf77ccfd9",
   "metadata": {},
   "outputs": [],
   "source": []
  },
  {
   "cell_type": "code",
   "execution_count": null,
   "id": "0f685d28-25b4-4baa-b427-18d5397d8c11",
   "metadata": {},
   "outputs": [],
   "source": []
  }
 ],
 "metadata": {
  "kernelspec": {
   "display_name": "Python 3 (ipykernel)",
   "language": "python",
   "name": "python3"
  },
  "language_info": {
   "codemirror_mode": {
    "name": "ipython",
    "version": 3
   },
   "file_extension": ".py",
   "mimetype": "text/x-python",
   "name": "python",
   "nbconvert_exporter": "python",
   "pygments_lexer": "ipython3",
   "version": "3.10.8"
  }
 },
 "nbformat": 4,
 "nbformat_minor": 5
}
