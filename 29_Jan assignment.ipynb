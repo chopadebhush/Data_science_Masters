{
 "cells": [
  {
   "cell_type": "markdown",
   "id": "9124477c-94cd-4674-b5cd-015ea77db204",
   "metadata": {},
   "source": [
    "`Q1. who developed python programimg laguage ?`"
   ]
  },
  {
   "cell_type": "markdown",
   "id": "b7a3e474-c806-4e87-adae-494d524e7993",
   "metadata": {},
   "source": [
    "Ans :-Guido van Rossum was develpoed python programing language in 1991."
   ]
  },
  {
   "cell_type": "markdown",
   "id": "89dd68ba-d61c-4663-a2d7-2794d7349f09",
   "metadata": {},
   "source": [
    "`Q2. Which type of prograning python does support ?`"
   ]
  },
  {
   "cell_type": "markdown",
   "id": "999a8a4c-638e-45f9-b82f-03b74fcf623c",
   "metadata": {},
   "source": [
    "Ans: -Python is an interpreted programming language, which supports object-oriented, structured, and functional programming."
   ]
  },
  {
   "cell_type": "markdown",
   "id": "151b833b-9b47-4326-a4fa-f471fc63df10",
   "metadata": {},
   "source": [
    "`Q3. Is python is case sensetive when dealing with identifier ?` "
   ]
  },
  {
   "cell_type": "markdown",
   "id": "151bea3c-2732-4c7e-8fd6-5cf1de71662d",
   "metadata": {},
   "source": [
    "Ans:- Yes , python is case sensetive when dealing with identifier"
   ]
  },
  {
   "cell_type": "markdown",
   "id": "eedf4344-d5e5-4bae-b50c-731c3756b480",
   "metadata": {},
   "source": [
    "`Q4. what is correct extension of python file ?`"
   ]
  },
  {
   "cell_type": "markdown",
   "id": "f74c013e-62c0-4880-bb92-5853ed6771d7",
   "metadata": {},
   "source": [
    "Ans :- .py is a correct extension of python file"
   ]
  },
  {
   "cell_type": "markdown",
   "id": "27e6fcd8-f0e9-466c-ad76-514c4e2772a9",
   "metadata": {},
   "source": [
    "`Q5. Is python code compiled or interpreted ?` "
   ]
  },
  {
   "cell_type": "markdown",
   "id": "7f706e74-aaa9-4898-9224-556e31d2cf3f",
   "metadata": {},
   "source": [
    "Ans :- python is both compile as well as interpreted language."
   ]
  },
  {
   "cell_type": "markdown",
   "id": "2886b908-9c25-46a1-8d6e-ca019cee129f",
   "metadata": {},
   "source": [
    "`Q6. Name a few block of code use to define in python language ?`"
   ]
  },
  {
   "cell_type": "markdown",
   "id": "c07dc642-f342-4da9-ace1-dcd73fde3318",
   "metadata": {},
   "source": [
    "Ans:- A Python program is constructed from code blocks. A block is a piece of Python program text that is executed as a unit. The following are blocks: a module, a function body, and a class definition."
   ]
  },
  {
   "cell_type": "markdown",
   "id": "dc26d9ea-0238-4177-bd96-256a033eabf5",
   "metadata": {},
   "source": [
    "`Q7. State a charcter use single line comments in python ?`"
   ]
  },
  {
   "cell_type": "markdown",
   "id": "a9c729dd-125a-47d9-a0da-c623a645e5e8",
   "metadata": {},
   "source": [
    "Ans :- \" \" these is used for single line comments in python."
   ]
  },
  {
   "cell_type": "markdown",
   "id": "fcae8775-0443-43f8-8092-60cc4a707342",
   "metadata": {},
   "source": [
    "Q8 .Mentioned the function which you can help us to find version of python that we are currently working on ?"
   ]
  },
  {
   "cell_type": "code",
   "execution_count": 5,
   "id": "a9c6c9a9-d90b-48e0-b4d7-2457ac69dedd",
   "metadata": {},
   "outputs": [
    {
     "name": "stdout",
     "output_type": "stream",
     "text": [
      "3.10.8 | packaged by conda-forge | (main, Nov 22 2022, 08:26:04) [GCC 10.4.0]\n"
     ]
    }
   ],
   "source": [
    "#Answer :-\n",
    "import sys\n",
    "print(sys.version)"
   ]
  },
  {
   "cell_type": "markdown",
   "id": "b288c62b-f772-4042-9b88-59ad07aa01ca",
   "metadata": {},
   "source": [
    "Ans: - we are currently using python version is 3.10.8"
   ]
  },
  {
   "cell_type": "markdown",
   "id": "02db618a-cf66-4cf1-ae52-dce35912d832",
   "metadata": {},
   "source": [
    "Q9 .Python support the creation of anoyomous function at runtime using construct called as ......"
   ]
  },
  {
   "cell_type": "markdown",
   "id": "0f6ce940-090b-40a5-93a8-afe1df3ea5a7",
   "metadata": {},
   "source": [
    "Ans :- Python support the creation of anoyomous function at runtime using construct called as lambda"
   ]
  },
  {
   "cell_type": "markdown",
   "id": "e79a71ff-5aad-41d8-9d0f-0b988c50e1b6",
   "metadata": {
    "tags": []
   },
   "source": [
    "`Q10. What does PIP Stand for in python ?`"
   ]
  },
  {
   "cell_type": "markdown",
   "id": "a8a13017-9774-417b-989f-52692fc7098e",
   "metadata": {
    "tags": []
   },
   "source": [
    "Ans :- PIP Stand for Python installer package"
   ]
  },
  {
   "cell_type": "markdown",
   "id": "b9107728-64db-4a18-ae15-f41770ed07e6",
   "metadata": {},
   "source": [
    "Q11. Mention few built in function in python ?"
   ]
  },
  {
   "cell_type": "markdown",
   "id": "d5ac1b3e-b9f3-4dba-84bc-d0fc6430e5dc",
   "metadata": {},
   "source": [
    "Ans :-\n",
    "\n",
    "abs()\tReturns the absolute value of a number\n",
    "\n",
    "all()\tReturns True if all items in an iterable object are true\n",
    "\n",
    "any()\tReturns True if any item in an iterable object is true\n",
    "\n",
    "ascii()\tReturns a readable version of an object. Replaces none-ascii characters with escape character\n",
    "\n",
    "bin()\tReturns the binary version of a number\n",
    "\n",
    "bool()\tReturns the boolean value of the specified object\n",
    "\n",
    "bytearray()\tReturns an array of bytes\n",
    "\n",
    "bytes()\tReturns a bytes object\n",
    "\n",
    "callable()\tReturns True if the specified object is callable, otherwise False\n",
    "\n",
    "chr()\tReturns a character from the specified Unicode code.\n",
    "\n",
    "classmethod()\tConverts a method into a class method\n",
    "\n",
    "compile()\tReturns the specified source as an object, ready to be executed\n",
    "\n",
    "complex()\tReturns a complex number\n",
    "\n",
    "delattr()\tDeletes the specified attribute (property or method) from the specified object\n",
    "\n",
    "dict()\tReturns a dictionary (Array)\n",
    "\n",
    "dir()\tReturns a list of the specified object's properties and methods\n",
    "\n",
    "divmod()\tReturns the quotient and the remainder when argument1 is divided by argument2\n",
    "\n",
    "enumerate()\tTakes a collection (e.g. a tuple) and returns it as an enumerate object\n",
    "\n",
    "eval()\tEvaluates and executes an expression\n",
    "\n",
    "exec()\tExecutes the specified code (or object)\n",
    "\n",
    "filter()\tUse a filter function to exclude items in an iterable object\n",
    "\n",
    "float()\tReturns a floating point number\n",
    "\n",
    "format()\tFormats a specified value\n",
    "\n",
    "frozenset()\tReturns a frozenset object\n",
    "\n",
    "getattr()\tReturns the value of the specified attribute (property or method)\n",
    "\n",
    "globals()\tReturns the current global symbol table as a dictionary\n",
    "\n",
    "hasattr()\tReturns True if the specified object has the specified attribute (property/method)\n",
    "\n",
    "hash()\tReturns the hash value of a specified object\n",
    "\n",
    "help()\tExecutes the built-in help system\n",
    "\n",
    "hex()\tConverts a number into a hexadecimal value\n",
    "\n",
    "id()\tReturns the id of an object\n",
    "\n",
    "input()\tAllowing user input\n",
    "\n",
    "int()\tReturns an integer number\n",
    "\n",
    "isinstance()\tReturns True if a specified object is an instance of a specified object\n",
    "\n",
    "issubclass()\tReturns True if a specified class is a subclass of a specified object\n",
    "\n",
    "iter()\tReturns an iterator object\n",
    "\n",
    "len()\tReturns the length of an object\n",
    "\n",
    "list()\tReturns a list\n",
    "\n",
    "locals()\tReturns an updated dictionary of the current local symbol table\n",
    "\n",
    "map()\tReturns the specified iterator with the specified function applied to each item\n",
    "\n",
    "max()\tReturns the largest item in an iterable\n",
    "\n",
    "memoryview()\tReturns a memory view object\n",
    "\n",
    "min()\tReturns the smallest item in an iterable\n",
    "\n",
    "next()\tReturns the next item in an iterable\n",
    "\n",
    "object()\tReturns a new object\n",
    "\n",
    "oct()\tConverts a number into an octal\n",
    "\n",
    "open()\tOpens a file and returns a file object\n",
    "\n",
    "ord()\tConvert an integer representing the Unicode of the specified character\n",
    "\n",
    "pow()\tReturns the value of x to the power of y\n",
    "\n",
    "print()\tPrints to the standard output device\n",
    "\n",
    "property()\tGets, sets, deletes a property\n",
    "\n",
    "range()\tReturns a sequence of numbers, starting from 0 and increments by 1 (by default)\n",
    "\n",
    "repr()\tReturns a readable version of an object\n",
    "\n",
    "reversed()\tReturns a reversed iterator\n",
    "\n",
    "round()\tRounds a numbers\n",
    "\n",
    "set()\tReturns a new set object\n",
    "\n",
    "setattr()\tSets an attribute (property/method) of an object\n",
    "\n",
    "slice()\tReturns a slice object\n",
    "\n",
    "sorted()\tReturns a sorted list\n",
    "\n",
    "staticmethod()\tConverts a method into a static method\n",
    "\n",
    "str()\tReturns a string object\n",
    "\n",
    "sum()\tSums the items of an iterator\n",
    "\n",
    "super()\tReturns an object that represents the parent class\n",
    "\n",
    "tuple()\tReturns a tuple\n",
    "\n",
    "type()\tReturns the type of an object\n",
    "\n",
    "vars()\tReturns the __dict__ property of an object\n",
    "\n",
    "zip()\tReturns an iterator, from two or more iterators"
   ]
  },
  {
   "cell_type": "markdown",
   "id": "6ff65be2-3646-4922-9688-8dd076701110",
   "metadata": {},
   "source": [
    "`Q12. What is maximum possible length of identifier in python ?`"
   ]
  },
  {
   "cell_type": "markdown",
   "id": "0f1f7828-2466-4962-816d-fa2de4581151",
   "metadata": {},
   "source": [
    "Ans :- An identifier can have a maximum length of 79 characters in Python."
   ]
  },
  {
   "cell_type": "markdown",
   "id": "3d577d03-5307-4a73-9a6e-ce5bc2068f10",
   "metadata": {},
   "source": [
    "`Q13. What are benifit of using python ?`"
   ]
  },
  {
   "cell_type": "markdown",
   "id": "a0dd79c3-d078-4f3a-a4aa-b1f4ac1cdfac",
   "metadata": {},
   "source": [
    "Ans :- Python is high level,general purpose, interpreted programing language.it can be use to build\n",
    "any application by using right tools and liberies.python support module,object,threds,exception handling\n",
    "and automatic memory managements which help to bulid any application."
   ]
  },
  {
   "cell_type": "markdown",
   "id": "98d2a492-eee0-4b1b-85c2-831ddf0faf8d",
   "metadata": {},
   "source": [
    "`Q14. How memory is manage in python ?`"
   ]
  },
  {
   "cell_type": "markdown",
   "id": "44343575-5003-4e1d-9ebc-d71e155ba642",
   "metadata": {},
   "source": [
    "Ans :-Memory management in Python involves the management of a private heap. \n",
    "A private heap is a portion of memory that is exclusive to the Python process. \n",
    "All Python objects and data structures are stored in the private heap. \n",
    "The operating system cannot allocate this piece of memory to another process."
   ]
  },
  {
   "cell_type": "markdown",
   "id": "9ba118a6-9e8e-4843-a408-787c20ff79fb",
   "metadata": {},
   "source": [
    "`Q15. How to install python on windows and set path variable ?`"
   ]
  },
  {
   "cell_type": "markdown",
   "id": "f6a1e8dc-7c66-4e22-845f-f3a30de4bf6a",
   "metadata": {},
   "source": [
    "Ans :-\n",
    "\n",
    "1. First, we must find the directory where we installed Python. ...\n",
    "\n",
    "2. Now, we will need to add this to the PATH variable, we right click on \"This PC\" and go to \"Properties\".\n",
    "\n",
    "3. Then, we click on the \"Advanced system settings\" in the menu on the left.going."
   ]
  },
  {
   "cell_type": "markdown",
   "id": "1b51b488-3a05-4fe3-8a42-e64f7fbedfc9",
   "metadata": {},
   "source": [
    "Q16. Is indentation required in python ?"
   ]
  },
  {
   "cell_type": "markdown",
   "id": "66244aeb-5773-473a-995c-0f8bb5be754f",
   "metadata": {},
   "source": [
    "Ans :- Yes , indentation required in python ."
   ]
  },
  {
   "cell_type": "code",
   "execution_count": null,
   "id": "39a4f13a-7243-4edf-ae0c-749f51b2c362",
   "metadata": {},
   "outputs": [],
   "source": []
  },
  {
   "cell_type": "code",
   "execution_count": null,
   "id": "cf5dea02-104f-4a51-935b-cd56b7cb7409",
   "metadata": {},
   "outputs": [],
   "source": []
  }
 ],
 "metadata": {
  "kernelspec": {
   "display_name": "Python 3 (ipykernel)",
   "language": "python",
   "name": "python3"
  },
  "language_info": {
   "codemirror_mode": {
    "name": "ipython",
    "version": 3
   },
   "file_extension": ".py",
   "mimetype": "text/x-python",
   "name": "python",
   "nbconvert_exporter": "python",
   "pygments_lexer": "ipython3",
   "version": "3.10.8"
  }
 },
 "nbformat": 4,
 "nbformat_minor": 5
}
