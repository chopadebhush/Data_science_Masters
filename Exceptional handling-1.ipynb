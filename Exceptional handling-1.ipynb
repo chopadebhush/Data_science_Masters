{
 "cells": [
  {
   "cell_type": "markdown",
   "id": "d897999b-d7b1-491e-8cf7-ba0da8973339",
   "metadata": {},
   "source": [
    "Q1. What is an exception in python ? write differance between exception and syntax error ?"
   ]
  },
  {
   "cell_type": "markdown",
   "id": "95ba694d-38b5-4938-89f8-5714cfa8e94f",
   "metadata": {},
   "source": [
    "Ans :\n",
    "    \n",
    "    python aries when error occur that can cause terminte the program. \n",
    "    error intrupted the flow of program. code execution will stop. so to avoid these we are using exception handling"
   ]
  },
  {
   "cell_type": "markdown",
   "id": "52dbd944-1cab-414d-9122-95bc2f916ba3",
   "metadata": {},
   "source": [
    "write differance between exception and syntax error  :\n",
    "    \n",
    "    Exceptions are usually caused by runtime errors, such as dividing by zero, trying to access an element in an array with an out-of-bounds index, or trying to access a file that does not exist. Exceptions are not syntax errors, but they can still prevent the program from running if they are not handled properly"
   ]
  },
  {
   "cell_type": "markdown",
   "id": "2a367474-1d96-4091-93d2-14dd4b9ae5e8",
   "metadata": {},
   "source": [
    "Q2. What happen when an exception is not handled ? Explain with an example ?"
   ]
  },
  {
   "cell_type": "markdown",
   "id": "58a0740e-d48e-4bd0-8dfe-e4626c58e798",
   "metadata": {},
   "source": [
    "Ans :\n",
    "    \n",
    "    if we donot handle exception properly,then the program will terminate abruptly and code will be crash."
   ]
  },
  {
   "cell_type": "code",
   "execution_count": 3,
   "id": "c7324ced-1772-4c85-912c-a02a6a7e22bc",
   "metadata": {},
   "outputs": [
    {
     "name": "stdin",
     "output_type": "stream",
     "text": [
      " 0\n"
     ]
    },
    {
     "ename": "ZeroDivisionError",
     "evalue": "division by zero",
     "output_type": "error",
     "traceback": [
      "\u001b[0;31m---------------------------------------------------------------------------\u001b[0m",
      "\u001b[0;31mZeroDivisionError\u001b[0m                         Traceback (most recent call last)",
      "Cell \u001b[0;32mIn[3], line 2\u001b[0m\n\u001b[1;32m      1\u001b[0m a \u001b[38;5;241m=\u001b[39m \u001b[38;5;28mint\u001b[39m(\u001b[38;5;28minput\u001b[39m())\n\u001b[0;32m----> 2\u001b[0m c \u001b[38;5;241m=\u001b[39m\u001b[38;5;241;43m2344\u001b[39;49m\u001b[43m \u001b[49m\u001b[38;5;241;43m/\u001b[39;49m\u001b[43ma\u001b[49m \n\u001b[1;32m      3\u001b[0m \u001b[38;5;28mprint\u001b[39m(c)\n",
      "\u001b[0;31mZeroDivisionError\u001b[0m: division by zero"
     ]
    }
   ],
   "source": [
    "a = int(input())\n",
    "c =2344 /a \n",
    "print(c)"
   ]
  },
  {
   "cell_type": "markdown",
   "id": "dfce1ee2-a108-4bd7-866b-3d16877002c2",
   "metadata": {},
   "source": [
    "====:\n",
    "    \n",
    "    in these example we got division by zero error. code was crashed on second step."
   ]
  },
  {
   "cell_type": "markdown",
   "id": "e80ebf0a-1ee9-4685-92d5-9a08ee5ad9e0",
   "metadata": {},
   "source": [
    "Q3. Which python statement is used to catch and handle exceptions ? explain with an example ?"
   ]
  },
  {
   "cell_type": "markdown",
   "id": "70d6d8c4-6e1d-48e9-b41c-fac336594e74",
   "metadata": {},
   "source": [
    "Ans :\n",
    "    \n",
    "    The try and except block in Python is used to catch and handle exceptions. Python executes code following the try statement as a “normal” part of the program. The code that follows the except statement is the program's response to any exceptions in the preceding try clause"
   ]
  },
  {
   "cell_type": "markdown",
   "id": "48b021d7-2a09-4b85-b280-dae4e950395f",
   "metadata": {},
   "source": [
    "Example"
   ]
  },
  {
   "cell_type": "code",
   "execution_count": 5,
   "id": "c96249e0-43b1-43e3-b181-e35c80af087d",
   "metadata": {},
   "outputs": [
    {
     "name": "stdin",
     "output_type": "stream",
     "text": [
      "Enter the number : 12\n",
      "Enter the number : 0\n"
     ]
    },
    {
     "name": "stdout",
     "output_type": "stream",
     "text": [
      "division by zero\n"
     ]
    }
   ],
   "source": [
    "try :\n",
    "    a = int(input('Enter the number :'))\n",
    "    b = int(input('Enter the number :'))\n",
    "    c =a/b\n",
    "    print(c)\n",
    "except Exception as e:\n",
    "    print(e)"
   ]
  },
  {
   "cell_type": "markdown",
   "id": "83b1810f-0918-4e14-866d-51188c7c6724",
   "metadata": {},
   "source": [
    "Explain with an example :\n",
    "    \n",
    "    1. try and else\n",
    "    2. finally \n",
    "    3. raise"
   ]
  },
  {
   "cell_type": "markdown",
   "id": "dc52a6ff-53ed-4f26-82d0-360072a5dd7c",
   "metadata": {},
   "source": [
    "1. try and else :\n",
    "    \n",
    "    try :\n",
    "        \n",
    "        try block is used to test the block of code for error\n",
    "        \n",
    "    else :\n",
    "    \n",
    "    else block is executed when try block execute successfully"
   ]
  },
  {
   "cell_type": "code",
   "execution_count": 11,
   "id": "48b63a9e-f6f6-4ff0-a074-78b811d945bd",
   "metadata": {},
   "outputs": [
    {
     "name": "stdin",
     "output_type": "stream",
     "text": [
      "Enter the num : 35\n",
      "Enter the num : 36\n"
     ]
    },
    {
     "name": "stdout",
     "output_type": "stream",
     "text": [
      "0.9722222222222222\n"
     ]
    }
   ],
   "source": [
    "# Example\n",
    "try :\n",
    "    a =int(input(\"Enter the num :\"))\n",
    "    b =int(input(\"Enter the num :\"))\n",
    "    c =a/b\n",
    "    \n",
    "except Exception as e:\n",
    "    print(e)\n",
    "else:\n",
    "    print(c)"
   ]
  },
  {
   "cell_type": "markdown",
   "id": "8de2ffb3-425f-4161-a152-8b46f8f7437f",
   "metadata": {},
   "source": [
    "Except :\n",
    "    \n",
    "    except block is used to handle the error. if try block failed the except block is executed handled the error."
   ]
  },
  {
   "cell_type": "code",
   "execution_count": 12,
   "id": "966aefcf-daa6-4563-9d68-2f5b9631bd74",
   "metadata": {},
   "outputs": [
    {
     "name": "stdin",
     "output_type": "stream",
     "text": [
      "Enter the num : 22\n",
      "Enter the num : 23\n"
     ]
    },
    {
     "name": "stdout",
     "output_type": "stream",
     "text": [
      "0.9565217391304348\n"
     ]
    }
   ],
   "source": [
    "# Example\n",
    "try :\n",
    "    a =int(input(\"Enter the num :\"))\n",
    "    b =int(input(\"Enter the num :\"))\n",
    "    c =a/b\n",
    "    \n",
    "except Exception as e:\n",
    "    print(e)\n",
    "else:\n",
    "    print(c)"
   ]
  },
  {
   "cell_type": "markdown",
   "id": "7038844d-462d-49ec-9c83-84ab4fe2394d",
   "metadata": {},
   "source": [
    "finally :\n",
    "    \n",
    "    finally block let you execute code regardless of result of try and except ."
   ]
  },
  {
   "cell_type": "code",
   "execution_count": 13,
   "id": "32b87338-378b-4c87-80cc-2b1cf8d67922",
   "metadata": {},
   "outputs": [
    {
     "name": "stdin",
     "output_type": "stream",
     "text": [
      "Enter the num : 2\n",
      "Enter the num : 2\n"
     ]
    },
    {
     "name": "stdout",
     "output_type": "stream",
     "text": [
      "1.0\n",
      "Code will execute\n"
     ]
    }
   ],
   "source": [
    "try :\n",
    "    a =int(input(\"Enter the num :\"))\n",
    "    b =int(input(\"Enter the num :\"))\n",
    "    c =a/b\n",
    "    \n",
    "except Exception as e:\n",
    "    print(e)\n",
    "else:\n",
    "    print(c)\n",
    "finally:\n",
    "    print(\"Code will execute\")"
   ]
  },
  {
   "cell_type": "markdown",
   "id": "2910acdb-72c6-408d-a806-60af61570b6d",
   "metadata": {},
   "source": [
    "Raise :\n",
    "    \n",
    "    raise statement is used to show the custom error message."
   ]
  },
  {
   "cell_type": "code",
   "execution_count": 15,
   "id": "27f6bb48-befc-481f-bfec-b373170cbfa5",
   "metadata": {},
   "outputs": [
    {
     "name": "stdin",
     "output_type": "stream",
     "text": [
      "Enter the num : -12\n",
      "Enter the num : 12\n"
     ]
    },
    {
     "name": "stdout",
     "output_type": "stream",
     "text": [
      "Input is less than zero\n"
     ]
    }
   ],
   "source": [
    "try :\n",
    "    a =int(input(\"Enter the num :\"))\n",
    "    b =int(input(\"Enter the num :\"))\n",
    "    \n",
    "    if a < 0:\n",
    "        raise ValueError(\"Input is less than zero\")\n",
    "    elif b< 0:\n",
    "        raise ValueError(\"Input is less than zero\")\n",
    "except Exception as e:\n",
    "    print(e)"
   ]
  },
  {
   "cell_type": "markdown",
   "id": "0c6a13e4-d5cd-4a98-9bb3-c14cad968cf1",
   "metadata": {},
   "source": [
    "Q5. What are custom exception in python ? Why do we need custom exception ? Explain with example ?"
   ]
  },
  {
   "cell_type": "markdown",
   "id": "1b76b370-d74b-4f2e-8a68-aba1a3653676",
   "metadata": {},
   "source": [
    "Ans :\n",
    "    \n",
    "    exceptions are just regular classes that inherit from the Exception class. This makes it super easy to create our own custom exceptions, which can make our programs easier to follow and more readable."
   ]
  },
  {
   "cell_type": "code",
   "execution_count": 19,
   "id": "08c15248-492c-4864-b19b-e327d382a8af",
   "metadata": {},
   "outputs": [
    {
     "name": "stdin",
     "output_type": "stream",
     "text": [
      "Enter the num : -12\n"
     ]
    },
    {
     "name": "stdout",
     "output_type": "stream",
     "text": [
      "Input is less than zero\n"
     ]
    }
   ],
   "source": [
    "try :\n",
    "    a =int(input(\"Enter the num :\"))\n",
    "    \n",
    "    if a < 0:\n",
    "        raise ValueError(\"Input is less than zero\")\n",
    "    elif a > 200:\n",
    "        raise ValueError(\"Input is less than zero\")\n",
    "except Exception as e:\n",
    "    print(e)"
   ]
  },
  {
   "cell_type": "markdown",
   "id": "3ead5324-c648-412b-a6d9-dd69016f29e0",
   "metadata": {},
   "source": [
    "Q6. Create a custom exception class use these class handle the exception ?"
   ]
  },
  {
   "cell_type": "code",
   "execution_count": 22,
   "id": "a1af0301-d346-4552-a3a5-3ed0b9d087bf",
   "metadata": {},
   "outputs": [
    {
     "name": "stdin",
     "output_type": "stream",
     "text": [
      "Enter a number:  -18\n"
     ]
    },
    {
     "name": "stdout",
     "output_type": "stream",
     "text": [
      "Exception occurred: Invalid Age\n"
     ]
    }
   ],
   "source": [
    "class InvalidAgeException(Exception):\n",
    "    \"Raised when the input value is less than 18\"\n",
    "    pass\n",
    "\n",
    "\n",
    "number = 18\n",
    "\n",
    "try:\n",
    "    input_num = int(input(\"Enter a number: \"))\n",
    "    if input_num < number:\n",
    "        raise InvalidAgeException\n",
    "    else:\n",
    "        print(\"Eligible to Vote\")\n",
    "        \n",
    "except InvalidAgeException:\n",
    "    print(\"Exception occurred: Invalid Age\")"
   ]
  },
  {
   "cell_type": "code",
   "execution_count": null,
   "id": "248d0696-057b-4243-94a1-e0ba7083f903",
   "metadata": {},
   "outputs": [],
   "source": []
  },
  {
   "cell_type": "code",
   "execution_count": null,
   "id": "60c60c41-bfb3-455a-ab2d-fc6d12840b44",
   "metadata": {},
   "outputs": [],
   "source": []
  },
  {
   "cell_type": "code",
   "execution_count": null,
   "id": "37dc731b-5927-4340-bcf3-67b1a91e4523",
   "metadata": {},
   "outputs": [],
   "source": []
  },
  {
   "cell_type": "code",
   "execution_count": null,
   "id": "1746c71b-4fcd-493a-9e03-dcea57a64624",
   "metadata": {},
   "outputs": [],
   "source": []
  },
  {
   "cell_type": "code",
   "execution_count": null,
   "id": "75ef8399-e1a7-4ab7-8c68-a4db524daff1",
   "metadata": {},
   "outputs": [],
   "source": []
  }
 ],
 "metadata": {
  "kernelspec": {
   "display_name": "Python 3 (ipykernel)",
   "language": "python",
   "name": "python3"
  },
  "language_info": {
   "codemirror_mode": {
    "name": "ipython",
    "version": 3
   },
   "file_extension": ".py",
   "mimetype": "text/x-python",
   "name": "python",
   "nbconvert_exporter": "python",
   "pygments_lexer": "ipython3",
   "version": "3.10.8"
  }
 },
 "nbformat": 4,
 "nbformat_minor": 5
}
