{
 "cells": [
  {
   "cell_type": "markdown",
   "id": "b932d26b",
   "metadata": {},
   "source": [
    "# Q1. Create a Pandas Series that contains the following data: 4, 8, 15, 16, 23, and 42. Then, print the series."
   ]
  },
  {
   "cell_type": "code",
   "execution_count": 7,
   "id": "148d637a",
   "metadata": {},
   "outputs": [
    {
     "name": "stdout",
     "output_type": "stream",
     "text": [
      "0     4\n",
      "1     8\n",
      "2    15\n",
      "3    16\n",
      "4    23\n",
      "5    42\n",
      "dtype: int64\n"
     ]
    }
   ],
   "source": [
    "import pandas as pd\n",
    "\n",
    "# Create a Pandas Series\n",
    "my_series = pd.Series([4, 8, 15, 16, 23, 42])\n",
    "\n",
    "# Print the series\n",
    "print(my_series)\n"
   ]
  },
  {
   "cell_type": "code",
   "execution_count": null,
   "id": "f74f87d2",
   "metadata": {},
   "outputs": [],
   "source": [
    "In the output, you can see that the series has been created and printed with its index and values."
   ]
  },
  {
   "cell_type": "markdown",
   "id": "59df989b",
   "metadata": {},
   "source": [
    "# Q2. Create a variable of list type containing 10 elements in it, and apply pandas.Series function on the variable print it."
   ]
  },
  {
   "cell_type": "code",
   "execution_count": 8,
   "id": "a806f3e0",
   "metadata": {},
   "outputs": [
    {
     "name": "stdout",
     "output_type": "stream",
     "text": [
      "0     10\n",
      "1     20\n",
      "2     30\n",
      "3     40\n",
      "4     50\n",
      "5     60\n",
      "6     70\n",
      "7     80\n",
      "8     90\n",
      "9    100\n",
      "dtype: int64\n"
     ]
    }
   ],
   "source": [
    "import pandas as pd\n",
    "\n",
    "# Create a list with 10 elements\n",
    "my_list = [10, 20, 30, 40, 50, 60, 70, 80, 90, 100]\n",
    "\n",
    "# Convert the list to a Pandas Series\n",
    "my_series = pd.Series(my_list)\n",
    "\n",
    "# Print the series\n",
    "print(my_series)\n"
   ]
  },
  {
   "cell_type": "markdown",
   "id": "08361bd9",
   "metadata": {},
   "source": [
    "In this example, we created a list my_list with 10 elements and converted it to a Pandas Series my_series using the pd.Series() function. Finally, we printed the Series to the console using the print() function."
   ]
  },
  {
   "cell_type": "markdown",
   "id": "d597ce16",
   "metadata": {},
   "source": [
    "# Q3. Create a Pandas DataFrame that contains the following data. Then, print the DataFrame."
   ]
  },
  {
   "attachments": {
    "table_data.png": {
     "image/png": "[encoded data removed]"
    }
   },
   "cell_type": "markdown",
   "id": "9c42b380",
   "metadata": {},
   "source": [
    "![table_data.png](attachment:table_data.png)"
   ]
  },
  {
   "cell_type": "markdown",
   "id": "35484ced",
   "metadata": {},
   "source": [
    "To create a Pandas DataFrame with the given data, you can use the pd.DataFrame() function and pass a dictionary where the keys represent the column names and the values represent the data in each column. Here's an example:\n",
    "\n",
    "\n"
   ]
  },
  {
   "cell_type": "code",
   "execution_count": 9,
   "id": "fac56042",
   "metadata": {},
   "outputs": [
    {
     "name": "stdout",
     "output_type": "stream",
     "text": [
      "     Name  Age  Gender\n",
      "0   Alice   25  Female\n",
      "1     Bob   30    Male\n",
      "2  Claire   27  Female\n"
     ]
    }
   ],
   "source": [
    "import pandas as pd\n",
    "\n",
    "data = {'Name': ['Alice', 'Bob', 'Claire'],\n",
    "        'Age': [25, 30, 27],\n",
    "        'Gender': ['Female', 'Male', 'Female']}\n",
    "\n",
    "df = pd.DataFrame(data)\n",
    "print(df)\n"
   ]
  },
  {
   "cell_type": "markdown",
   "id": "5cb16aee",
   "metadata": {},
   "source": [
    "In this example, we created a dictionary data with three keys ('Name', 'Age', and 'Gender'), each representing a column in the DataFrame, and the values as lists with the data in each column. We then passed this dictionary to the pd.DataFrame() function to create the DataFrame df and printed it to the console using the print() function."
   ]
  },
  {
   "cell_type": "markdown",
   "id": "8df59596",
   "metadata": {},
   "source": [
    "# Q4. What is ‘DataFrame’ in pandas and how is it different from pandas.series? Explain with an example."
   ]
  },
  {
   "cell_type": "markdown",
   "id": "d6ec181b",
   "metadata": {},
   "source": [
    "In Pandas, a DataFrame is a 2-dimensional labeled data structure with columns of potentially different data types, similar to a spreadsheet or SQL table. It is a primary object in Pandas and is used to represent and manipulate data with rows and columns.\n",
    "\n",
    "On the other hand, a Pandas Series is a one-dimensional labeled array capable of holding any data type. It is similar to a column in a DataFrame or a single vector in R.\n",
    "\n",
    "Here's an example to illustrate the difference between a DataFrame and a Series:"
   ]
  },
  {
   "cell_type": "code",
   "execution_count": 11,
   "id": "b521e4c0",
   "metadata": {},
   "outputs": [
    {
     "name": "stdout",
     "output_type": "stream",
     "text": [
      "DataFrame:\n",
      "     Name  Age  Gender\n",
      "0   Alice   25  Female\n",
      "1     Bob   30    Male\n",
      "2  Claire   27  Female\n",
      "\n",
      "Series:\n",
      "0    25\n",
      "1    30\n",
      "2    27\n",
      "Name: Age, dtype: int64\n"
     ]
    }
   ],
   "source": [
    "import pandas as pd\n",
    "\n",
    "# Create a dictionary with data for a DataFrame\n",
    "data = {'Name': ['Alice', 'Bob', 'Claire'],\n",
    "        'Age': [25, 30, 27],\n",
    "        'Gender': ['Female', 'Male', 'Female']}\n",
    "\n",
    "# Create a DataFrame from the dictionary\n",
    "df = pd.DataFrame(data)\n",
    "\n",
    "# Create a Series from the 'Age' column of the DataFrame\n",
    "ages = df['Age']\n",
    "\n",
    "# Print the DataFrame and the Series\n",
    "print(\"DataFrame:\")\n",
    "print(df)\n",
    "print()\n",
    "print(\"Series:\")\n",
    "print(ages)\n"
   ]
  },
  {
   "cell_type": "markdown",
   "id": "a464bada",
   "metadata": {},
   "source": [
    "In this example, we first created a dictionary data with three keys ('Name', 'Age', and 'Gender'), each representing a column in the DataFrame, and the values as lists with the data in each column. We then used this dictionary to create a DataFrame df using the pd.DataFrame() function.\n",
    "\n",
    "Next, we created a Series ages from the 'Age' column of the DataFrame by indexing the DataFrame using the column name. This resulted in a one-dimensional labeled array with the values from the 'Age' column of the DataFrame.\n",
    "\n",
    "Finally, we printed both the DataFrame and the Series to the console using the print() function. The DataFrame contains all three columns, while the Series only contains the 'Age' column. Therefore, the DataFrame is a 2-dimensional data structure, while the Series is a 1-dimensional data structure."
   ]
  },
  {
   "cell_type": "code",
   "execution_count": null,
   "id": "1e1fdd35",
   "metadata": {},
   "outputs": [],
   "source": []
  },
  {
   "cell_type": "code",
   "execution_count": null,
   "id": "a189573e",
   "metadata": {},
   "outputs": [],
   "source": []
  },
  {
   "cell_type": "markdown",
   "id": "91754c86",
   "metadata": {},
   "source": [
    "# Q5. What are some common functions you can use to manipulate data in a Pandas DataFrame? Canyou give an example of when you might use one of these functions?"
   ]
  },
  {
   "cell_type": "markdown",
   "id": "b2183511",
   "metadata": {},
   "source": [
    "Pandas provides many functions to manipulate data in a DataFrame. Here are some common functions that can be used to manipulate data:\n",
    "\n",
    "1)head() and tail(): These functions are used to view the first or last n rows of a DataFrame respectively. They are useful to quickly inspect the structure and contents of a DataFrame."
   ]
  },
  {
   "cell_type": "code",
   "execution_count": 12,
   "id": "a2fc5d8e",
   "metadata": {},
   "outputs": [
    {
     "name": "stdout",
     "output_type": "stream",
     "text": [
      "    Name  Age  Gender\n",
      "0  Alice   25  Female\n",
      "1    Bob   30    Male\n"
     ]
    }
   ],
   "source": [
    "# Example usage of head() function\n",
    "import pandas as pd\n",
    "\n",
    "# Create a DataFrame\n",
    "data = {'Name': ['Alice', 'Bob', 'Claire'],\n",
    "        'Age': [25, 30, 27],\n",
    "        'Gender': ['Female', 'Male', 'Female']}\n",
    "df = pd.DataFrame(data)\n",
    "\n",
    "# View the first two rows of the DataFrame\n",
    "print(df.head(2))\n"
   ]
  },
  {
   "cell_type": "markdown",
   "id": "ab05ce9f",
   "metadata": {},
   "source": [
    "2)describe(): This function is used to compute summary statistics of a DataFrame, such as count, mean, standard deviation, minimum, and maximum values. It is useful to quickly get a sense of the distribution and range of values in a DataFrame."
   ]
  },
  {
   "cell_type": "code",
   "execution_count": 13,
   "id": "12b6fa7c",
   "metadata": {},
   "outputs": [
    {
     "name": "stdout",
     "output_type": "stream",
     "text": [
      "             Age\n",
      "count   3.000000\n",
      "mean   27.333333\n",
      "std     2.516611\n",
      "min    25.000000\n",
      "25%    26.000000\n",
      "50%    27.000000\n",
      "75%    28.500000\n",
      "max    30.000000\n"
     ]
    }
   ],
   "source": [
    "# Example usage of describe() function\n",
    "import pandas as pd\n",
    "\n",
    "# Create a DataFrame\n",
    "data = {'Name': ['Alice', 'Bob', 'Claire'],\n",
    "        'Age': [25, 30, 27],\n",
    "        'Gender': ['Female', 'Male', 'Female']}\n",
    "df = pd.DataFrame(data)\n",
    "\n",
    "# Compute summary statistics of the DataFrame\n",
    "print(df.describe())\n"
   ]
  },
  {
   "cell_type": "markdown",
   "id": "00af7b70",
   "metadata": {},
   "source": [
    "3)groupby(): This function is used to group rows in a DataFrame based on one or more columns, and apply an aggregation function, such as mean, sum, count, or custom functions, to each group. It is useful to analyze the relationship between different variables in a dataset."
   ]
  },
  {
   "cell_type": "code",
   "execution_count": 14,
   "id": "d4341e16",
   "metadata": {},
   "outputs": [
    {
     "name": "stdout",
     "output_type": "stream",
     "text": [
      "Gender\n",
      "Female    29.0\n",
      "Male      29.0\n",
      "Name: Age, dtype: float64\n"
     ]
    }
   ],
   "source": [
    "# Example usage of groupby() function\n",
    "import pandas as pd\n",
    "\n",
    "# Create a DataFrame\n",
    "data = {'Name': ['Alice', 'Bob', 'Claire', 'David', 'Eva', 'Frank'],\n",
    "        'Age': [25, 30, 27, 25, 35, 32],\n",
    "        'Gender': ['Female', 'Male', 'Female', 'Male', 'Female', 'Male']}\n",
    "df = pd.DataFrame(data)\n",
    "\n",
    "# Group the DataFrame by 'Gender' column and compute the mean of 'Age' column for each group\n",
    "grouped_df = df.groupby('Gender')['Age'].mean()\n",
    "print(grouped_df)\n"
   ]
  },
  {
   "cell_type": "markdown",
   "id": "34f23640",
   "metadata": {},
   "source": [
    "In this example, we grouped the DataFrame by the 'Gender' column using the groupby() function, and then computed the mean of the 'Age' column for each group using the mean() function. This allowed us to see the average age of males and females in the dataset.\n",
    "\n",
    "These are just a few examples of the many functions available in Pandas to manipulate data in a DataFrame. They are useful in a wide variety of data analysis tasks, from data cleaning and preparation to exploratory data analysis and model building."
   ]
  },
  {
   "cell_type": "markdown",
   "id": "92523767",
   "metadata": {},
   "source": [
    "# Q6. Which of the following is mutable in nature Series, DataFrame, Panel?"
   ]
  },
  {
   "cell_type": "markdown",
   "id": "c79e3533",
   "metadata": {},
   "source": [
    "In Pandas, DATA MUTABILITY refers to the ability to change the values within a data structure, while SIZE MUTABILITY refers to the ability to change the size or shape of the data structure itself.\n",
    "\n",
    "All three, that is  Series, DataFrame and Panel are DATA MUTABLE, meaning that you can change the values within them, but only DataFrame and Panel are SIZE MUTABLE, meaning that you can change their shape or size."
   ]
  },
  {
   "cell_type": "markdown",
   "id": "8866bcc6",
   "metadata": {},
   "source": [
    "# Q7. Create a DataFrame using multiple Series. Explain with an example."
   ]
  },
  {
   "cell_type": "markdown",
   "id": "722fef51",
   "metadata": {},
   "source": [
    "You can create a Pandas DataFrame using multiple Series by passing a dictionary of Series objects to the DataFrame constructor. Each Series represents a column in the resulting DataFrame, and the index of each Series is used to align the data. Here's an example:"
   ]
  },
  {
   "cell_type": "code",
   "execution_count": 15,
   "id": "988fc0a0",
   "metadata": {},
   "outputs": [
    {
     "name": "stdout",
     "output_type": "stream",
     "text": [
      "     Name  Age  Gender\n",
      "0   Alice   25  Female\n",
      "1     Bob   30    Male\n",
      "2  Claire   27  Female\n"
     ]
    }
   ],
   "source": [
    "import pandas as pd\n",
    "\n",
    "# create three Series objects\n",
    "names = pd.Series(['Alice', 'Bob', 'Claire'])\n",
    "ages = pd.Series([25, 30, 27])\n",
    "genders = pd.Series(['Female', 'Male', 'Female'])\n",
    "\n",
    "# combine the Series objects into a dictionary\n",
    "data = {'Name': names, 'Age': ages, 'Gender': genders}\n",
    "\n",
    "# create the DataFrame\n",
    "df = pd.DataFrame(data)\n",
    "\n",
    "# print the DataFrame\n",
    "print(df)\n"
   ]
  },
  {
   "cell_type": "markdown",
   "id": "d72b36e1",
   "metadata": {},
   "source": [
    "In this example, we first create three Series objects called names, ages, and genders, each containing data for a single column of the final DataFrame. We then combine these Series into a dictionary called data, where the keys represent the column names and the values represent the Series data.\n",
    "\n",
    "Finally, we pass this dictionary to the DataFrame constructor to create the final DataFrame object df, which contains the data from all three Series. Note that the index of each Series is used to align the data, so that the values in each column are matched to the correct row."
   ]
  },
  {
   "cell_type": "code",
   "execution_count": null,
   "id": "f5a7233a",
   "metadata": {},
   "outputs": [],
   "source": []
  }
 ],
 "metadata": {
  "kernelspec": {
   "display_name": "Python 3 (ipykernel)",
   "language": "python",
   "name": "python3"
  },
  "language_info": {
   "codemirror_mode": {
    "name": "ipython",
    "version": 3
   },
   "file_extension": ".py",
   "mimetype": "text/x-python",
   "name": "python",
   "nbconvert_exporter": "python",
   "pygments_lexer": "ipython3",
   "version": "3.10.1"
  }
 },
 "nbformat": 4,
 "nbformat_minor": 5
}
