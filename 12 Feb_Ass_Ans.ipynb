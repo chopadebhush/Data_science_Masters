{
 "cells": [
  {
   "cell_type": "markdown",
   "id": "d8129bac",
   "metadata": {},
   "source": [
    "# 1) What is Exception in Python? Write a difference between Exception and Syntax Error?"
   ]
  },
  {
   "cell_type": "markdown",
   "id": "96fc6652",
   "metadata": {},
   "source": [
    "In Python, an exception is an event that occurs during the execution of a program that disrupts the normal flow of the program's instructions. Exceptions are used to handle errors and other exceptional conditions that can arise while a program is running.\n",
    "\n",
    "A syntax error, on the other hand, is a type of error that occurs when the code written in the program violates the rules of the Python syntax. Syntax errors are detected by the Python interpreter before the code is executed, and they prevent the program from running.\n",
    "\n",
    "The main difference between an exception and a syntax error is that exceptions occur at runtime, while syntax errors occur at compile time. Additionally, syntax errors are usually easier to detect and fix because they prevent the code from being executed, whereas exceptions can be more difficult to debug because they occur only when the code is running.\n",
    "\n",
    "For example, trying to divide a number by zero will raise an exception (ZeroDivisionError), whereas forgetting to put quotes around a string in a print statement would result in a syntax error."
   ]
  },
  {
   "cell_type": "markdown",
   "id": "e7e33370",
   "metadata": {},
   "source": [
    "# 2) What happens if an exception is not handled? Explain with an example."
   ]
  },
  {
   "cell_type": "markdown",
   "id": "a2074790",
   "metadata": {},
   "source": [
    "If an exception is not handled in a Python program, the program will terminate abruptly and an error message will be displayed. The error message indicates what type of exception was raised and where it occurred in the code.\n",
    "\n",
    "For example, consider the following code:\n",
    "\n"
   ]
  },
  {
   "cell_type": "code",
   "execution_count": 2,
   "id": "56068faa",
   "metadata": {},
   "outputs": [
    {
     "ename": "ZeroDivisionError",
     "evalue": "division by zero",
     "output_type": "error",
     "traceback": [
      "\u001b[1;31m---------------------------------------------------------------------------\u001b[0m",
      "\u001b[1;31mZeroDivisionError\u001b[0m                         Traceback (most recent call last)",
      "Input \u001b[1;32mIn [2]\u001b[0m, in \u001b[0;36m<module>\u001b[1;34m\u001b[0m\n\u001b[0;32m      4\u001b[0m x \u001b[38;5;241m=\u001b[39m \u001b[38;5;241m10\u001b[39m\n\u001b[0;32m      5\u001b[0m y \u001b[38;5;241m=\u001b[39m \u001b[38;5;241m0\u001b[39m\n\u001b[1;32m----> 7\u001b[0m result \u001b[38;5;241m=\u001b[39m \u001b[43mdivide\u001b[49m\u001b[43m(\u001b[49m\u001b[43mx\u001b[49m\u001b[43m,\u001b[49m\u001b[43m \u001b[49m\u001b[43my\u001b[49m\u001b[43m)\u001b[49m\n\u001b[0;32m      8\u001b[0m \u001b[38;5;28mprint\u001b[39m(result)\n",
      "Input \u001b[1;32mIn [2]\u001b[0m, in \u001b[0;36mdivide\u001b[1;34m(x, y)\u001b[0m\n\u001b[0;32m      1\u001b[0m \u001b[38;5;28;01mdef\u001b[39;00m \u001b[38;5;21mdivide\u001b[39m(x, y):\n\u001b[1;32m----> 2\u001b[0m     \u001b[38;5;28;01mreturn\u001b[39;00m \u001b[43mx\u001b[49m\u001b[43m \u001b[49m\u001b[38;5;241;43m/\u001b[39;49m\u001b[43m \u001b[49m\u001b[43my\u001b[49m\n",
      "\u001b[1;31mZeroDivisionError\u001b[0m: division by zero"
     ]
    }
   ],
   "source": [
    "def divide(x, y):\n",
    "    return x / y\n",
    "\n",
    "x = 10\n",
    "y = 0\n",
    "\n",
    "result = divide(x, y)\n",
    "print(result)\n"
   ]
  },
  {
   "cell_type": "markdown",
   "id": "2f8d1542",
   "metadata": {},
   "source": [
    "In this code, we are trying to divide x by y, which will result in a ZeroDivisionError exception because dividing by zero is not allowed in mathematics. If this exception is not handled, the program will terminate with the above error message"
   ]
  },
  {
   "cell_type": "markdown",
   "id": "bbae67ec",
   "metadata": {},
   "source": [
    "This error message provides information about the type of exception (ZeroDivisionError) and the location in the code where the exception was raised (line 2 of the divide function). This information can be useful for debugging the program and fixing the problem.\n",
    "\n",
    "It is generally a good practice to handle exceptions in your code so that the program can continue running even if an error occurs, instead of abruptly terminating. You can handle exceptions using a try-except block, which allows you to catch specific exceptions and perform specific actions in response to those exceptions."
   ]
  },
  {
   "cell_type": "markdown",
   "id": "c0b4d01f",
   "metadata": {},
   "source": [
    "# 3) Which Python statements are used to catch and handle exceptions? Explain with an example."
   ]
  },
  {
   "cell_type": "markdown",
   "id": "d80a1418",
   "metadata": {},
   "source": [
    "The try and except statements in Python are used to catch and handle exceptions. The try statement is used to define a block of code that you want to monitor for exceptions, and the except statement is used to define the actions to take in response to exceptions that are raised in the try block.\n",
    "\n",
    "Here's an example that demonstrates how the try and except statements can be used to catch and handle exceptions:"
   ]
  },
  {
   "cell_type": "code",
   "execution_count": 3,
   "id": "f37ecb60",
   "metadata": {},
   "outputs": [
    {
     "name": "stdout",
     "output_type": "stream",
     "text": [
      "Error: Cannot divide by zero.\n"
     ]
    }
   ],
   "source": [
    "try:\n",
    "    # code that might raise an exception\n",
    "    result = 10 / 0\n",
    "except ZeroDivisionError as e:\n",
    "    # code that will be executed if the exception is raised\n",
    "    print(\"Error: Cannot divide by zero.\")\n",
    "else:\n",
    "    # code that will be executed if no exception was raised\n",
    "    print(result)\n"
   ]
  },
  {
   "cell_type": "markdown",
   "id": "6bedd716",
   "metadata": {},
   "source": [
    "In this example, the code in the try block attempts to divide 10 by 0, which will result in a ZeroDivisionError exception. The except statement catches this exception and prints an error message. The else statement provides a block of code that will be executed if no exception was raised in the try block. In this case, the else block will not be executed because an exception was raised in the try block.\n",
    "\n",
    "You can also specify multiple except statements to handle different types of exceptions in different ways. For example:"
   ]
  },
  {
   "cell_type": "code",
   "execution_count": 4,
   "id": "8023f115",
   "metadata": {},
   "outputs": [
    {
     "name": "stdout",
     "output_type": "stream",
     "text": [
      "Error: Invalid input. Please enter a number.\n"
     ]
    }
   ],
   "source": [
    "try:\n",
    "    # code that might raise an exception\n",
    "    x = int(\"abc\")\n",
    "except ValueError as e:\n",
    "    # code that will be executed if a ValueError is raised\n",
    "    print(\"Error: Invalid input. Please enter a number.\")\n",
    "except ZeroDivisionError as e:\n",
    "    # code that will be executed if a ZeroDivisionError is raised\n",
    "    print(\"Error: Cannot divide by zero.\")\n",
    "else:\n",
    "    # code that will be executed if no exception was raised\n",
    "    print(x)\n"
   ]
  },
  {
   "cell_type": "markdown",
   "id": "7cd95c7c",
   "metadata": {},
   "source": [
    "In this example, the code in the try block attempts to convert a string to an integer, which will result in a ValueError exception. The first except statement catches this exception and prints an error message. The second except statement catches a ZeroDivisionError exception, but this exception will not be raised in this example. The else statement provides a block of code that will be executed if no exception was raised in the try block."
   ]
  },
  {
   "cell_type": "markdown",
   "id": "af03a4b5",
   "metadata": {},
   "source": [
    "# 4) Explain with an example\n",
    "# a)try and else\n",
    "# b)finally\n",
    "# c)raise"
   ]
  },
  {
   "cell_type": "markdown",
   "id": "139fac65",
   "metadata": {},
   "source": [
    "Here's an example that demonstrates the try and else statements:\n",
    "\n",
    "\n"
   ]
  },
  {
   "cell_type": "code",
   "execution_count": 5,
   "id": "49e92625",
   "metadata": {},
   "outputs": [
    {
     "name": "stdout",
     "output_type": "stream",
     "text": [
      "5.0\n"
     ]
    }
   ],
   "source": [
    "try:\n",
    "    # code that might raise an exception\n",
    "    result = 10 / 2\n",
    "except ZeroDivisionError as e:\n",
    "    # code that will be executed if an exception is raised\n",
    "    print(\"Error: Cannot divide by zero.\")\n",
    "else:\n",
    "    # code that will be executed if no exception was raised\n",
    "    print(result)\n"
   ]
  },
  {
   "cell_type": "markdown",
   "id": "d53da850",
   "metadata": {},
   "source": [
    "In this example, the code in the try block divides 10 by 2. Since this operation does not result in an exception, the code in the else block will be executed and will print the result (5).\n",
    "\n",
    "Here's an example that demonstrates the finally statement:"
   ]
  },
  {
   "cell_type": "code",
   "execution_count": 6,
   "id": "bfcad666",
   "metadata": {},
   "outputs": [
    {
     "name": "stdout",
     "output_type": "stream",
     "text": [
      "Error: Cannot divide by zero.\n",
      "Finally block executed.\n"
     ]
    }
   ],
   "source": [
    "try:\n",
    "    # code that might raise an exception\n",
    "    result = 10 / 0\n",
    "except ZeroDivisionError as e:\n",
    "    # code that will be executed if an exception is raised\n",
    "    print(\"Error: Cannot divide by zero.\")\n",
    "finally:\n",
    "    # code that will always be executed, regardless of whether an exception was raised or not\n",
    "    print(\"Finally block executed.\")\n"
   ]
  },
  {
   "cell_type": "markdown",
   "id": "05d37cec",
   "metadata": {},
   "source": [
    "In this example, the code in the try block attempts to divide 10 by 0, which will result in a ZeroDivisionError exception. The except statement catches this exception and prints an error message. The finally block provides code that will always be executed, regardless of whether an exception was raised or not. In this case, the finally block will print a message indicating that it was executed.\n",
    "\n",
    "Here's an example that demonstrates the raise statement:"
   ]
  },
  {
   "cell_type": "code",
   "execution_count": 7,
   "id": "24cb2bf1",
   "metadata": {},
   "outputs": [
    {
     "name": "stdout",
     "output_type": "stream",
     "text": [
      "Error: Cannot divide by zero.\n"
     ]
    }
   ],
   "source": [
    "def divide(a, b):\n",
    "    if b == 0:\n",
    "        raise ValueError(\"Error: Cannot divide by zero.\")\n",
    "    return a / b\n",
    "\n",
    "try:\n",
    "    result = divide(10, 0)\n",
    "except ValueError as e:\n",
    "    print(e)\n"
   ]
  },
  {
   "cell_type": "markdown",
   "id": "02592d9e",
   "metadata": {},
   "source": [
    "In this example, the divide function raises a ValueError exception if the second argument is 0. The try-except block calls the divide function and catches the ValueError exception that is raised. The except block prints the error message that was included in the raise statement. This way, the function can provide a more descriptive error message and handle the error in a controlled manner, instead of abruptly terminating the program."
   ]
  },
  {
   "cell_type": "markdown",
   "id": "6a10299a",
   "metadata": {},
   "source": [
    "# 5) What are custom exceptions in Python? Why do we need Custom Exceptions? Explain with an example"
   ]
  },
  {
   "cell_type": "markdown",
   "id": "692ce75a",
   "metadata": {},
   "source": [
    "In Python, you can create custom exceptions by defining a new class that inherits from the Exception class. Custom exceptions allow you to define specific exception types that can be raised and caught in your code.\n",
    "\n",
    "You need custom exceptions when you want to provide a more descriptive error message or want to handle specific error conditions in a different way. For example, if you're writing a function that performs a specific operation, you can define a custom exception for that function. If the operation fails, you can raise the custom exception and provide a detailed error message.\n",
    "\n",
    "Here's an example of a custom exception in Python:\n",
    "\n",
    "\n"
   ]
  },
  {
   "cell_type": "code",
   "execution_count": 9,
   "id": "9d669a3b",
   "metadata": {},
   "outputs": [
    {
     "name": "stdout",
     "output_type": "stream",
     "text": [
      "Error: Cannot divide by zero.\n"
     ]
    }
   ],
   "source": [
    "class InvalidInputError(Exception):\n",
    "    def __init__(self, message):\n",
    "        self.message = message\n",
    "\n",
    "def divide(a, b):\n",
    "    if b == 0:\n",
    "        raise InvalidInputError(\"Error: Cannot divide by zero.\")\n",
    "    return a / b\n",
    "\n",
    "try:\n",
    "    result = divide(10, 0)\n",
    "except InvalidInputError as e:\n",
    "    print(e.message)\n"
   ]
  },
  {
   "cell_type": "markdown",
   "id": "aecb52dc",
   "metadata": {},
   "source": [
    "In this example, we define a custom exception InvalidInputError that inherits from the Exception class. The custom exception takes a message as an argument, which can be accessed using the message attribute. The divide function raises the InvalidInputError exception if the second argument is 0, providing a descriptive error message. The try-except block calls the divide function and catches the InvalidInputError exception. The except block prints the error message from the custom exception."
   ]
  },
  {
   "cell_type": "markdown",
   "id": "877fb77f",
   "metadata": {},
   "source": [
    "# 6) Create a Custom Exception class. Use this class to handle an exception"
   ]
  },
  {
   "cell_type": "markdown",
   "id": "72f38b6a",
   "metadata": {},
   "source": [
    "Here's an example of how to create a custom exception class in Python:"
   ]
  },
  {
   "cell_type": "code",
   "execution_count": 10,
   "id": "6e4cc6b8",
   "metadata": {},
   "outputs": [
    {
     "name": "stdout",
     "output_type": "stream",
     "text": [
      "Error: Cannot divide by zero.\n"
     ]
    }
   ],
   "source": [
    "class CustomException(Exception):\n",
    "    def __init__(self, message):\n",
    "        self.message = message\n",
    "\n",
    "def divide(a, b):\n",
    "    if b == 0:\n",
    "        raise CustomException(\"Error: Cannot divide by zero.\")\n",
    "    return a / b\n",
    "\n",
    "try:\n",
    "    result = divide(10, 0)\n",
    "except CustomException as e:\n",
    "    print(e.message)\n"
   ]
  },
  {
   "cell_type": "markdown",
   "id": "b4666f8c",
   "metadata": {},
   "source": [
    "In this example, we define a custom exception class CustomException that inherits from the built-in Exception class. The custom exception takes a message as an argument, which can be accessed using the message attribute. The divide function raises the CustomException exception if the second argument is 0, providing a descriptive error message. The try-except block calls the divide function and catches the CustomException exception. The except block prints the error message from the custom exception."
   ]
  },
  {
   "cell_type": "code",
   "execution_count": null,
   "id": "bf5b735c",
   "metadata": {},
   "outputs": [],
   "source": []
  }
 ],
 "metadata": {
  "kernelspec": {
   "display_name": "Python 3 (ipykernel)",
   "language": "python",
   "name": "python3"
  },
  "language_info": {
   "codemirror_mode": {
    "name": "ipython",
    "version": 3
   },
   "file_extension": ".py",
   "mimetype": "text/x-python",
   "name": "python",
   "nbconvert_exporter": "python",
   "pygments_lexer": "ipython3",
   "version": "3.10.1"
  }
 },
 "nbformat": 4,
 "nbformat_minor": 5
}
