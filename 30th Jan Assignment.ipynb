{
 "cells": [
  {
   "cell_type": "markdown",
   "id": "e683e4ef-a357-4181-b969-383eeed64b7a",
   "metadata": {},
   "source": [
    "`Q1. Write a program to accept the percentage from user and display the grade according as per critera ?`"
   ]
  },
  {
   "cell_type": "markdown",
   "id": "a2d41189-82e7-4b2d-b15c-46fb0971b940",
   "metadata": {},
   "source": [
    "   Marks                Grade\n",
    "1. >90                  A \n",
    "\n",
    "2. >80 and <=90         B\n",
    "\n",
    "3. >=60 and <=80        C\n",
    "\n",
    "4. Below 60             D"
   ]
  },
  {
   "cell_type": "code",
   "execution_count": 4,
   "id": "0e713d1c-4c1f-45d4-bf64-5fb64ad79c42",
   "metadata": {},
   "outputs": [
    {
     "name": "stdin",
     "output_type": "stream",
     "text": [
      "Enter the percentage : 59\n"
     ]
    },
    {
     "name": "stdout",
     "output_type": "stream",
     "text": [
      "You got grade 'D'\n"
     ]
    }
   ],
   "source": [
    "usr =int(input(\"Enter the percentage :\"))\n",
    "\n",
    "if usr > 90:\n",
    "    print(\"You got grade 'A'\")\n",
    "elif usr >80 and usr <= 90:\n",
    "    print(\"You got grade 'B'\")\n",
    "elif usr >=60 and usr <=80:\n",
    "    print(\"You got grade 'C'\")\n",
    "else:\n",
    "    print(\"You got grade 'D'\")"
   ]
  },
  {
   "cell_type": "markdown",
   "id": "c79f4c52-23a7-42de-92b0-30d813d94718",
   "metadata": {},
   "source": [
    "Q2 .write a program to accept the cost of price of bike and display the road tax to be paid according to following criteria ?"
   ]
  },
  {
   "cell_type": "code",
   "execution_count": 6,
   "id": "ce82a9b1-b4f5-4469-88ed-84d3d78dcc33",
   "metadata": {},
   "outputs": [
    {
     "name": "stdin",
     "output_type": "stream",
     "text": [
      "Enter the bike price : 3000\n"
     ]
    },
    {
     "name": "stdout",
     "output_type": "stream",
     "text": [
      "You pay 5% Tax on these price\n"
     ]
    }
   ],
   "source": [
    "bike_price =int(input(\"Enter the bike price :\"))\n",
    "if bike_price >100000:\n",
    "    print(\"You pay 15% Tax on these price\")\n",
    "elif bike_price >50000 and bike_price <=100000:\n",
    "    print(\"You pay 10% Tax on these price\")\n",
    "elif bike_price <=50000:\n",
    "    print(\"You pay 5% Tax on these price\")"
   ]
  },
  {
   "cell_type": "markdown",
   "id": "9a86a191-e7c3-4d7f-b74c-281185678972",
   "metadata": {},
   "source": [
    "Q3. Accept any city from user and display the monuments of the city ?"
   ]
  },
  {
   "cell_type": "code",
   "execution_count": 12,
   "id": "b6bb86a9-642e-4051-92fe-1da7becdb640",
   "metadata": {},
   "outputs": [
    {
     "name": "stdin",
     "output_type": "stream",
     "text": [
      "Enter the city name : Agra\n"
     ]
    },
    {
     "name": "stdout",
     "output_type": "stream",
     "text": [
      "Taj Mahal\n"
     ]
    }
   ],
   "source": [
    "city =input(\"Enter the city name :\")\n",
    "if city == \"Delhi\":\n",
    "    print(\"Red fort\")\n",
    "elif city ==\"Agra\":\n",
    "    print(\"Taj Mahal\")\n",
    "elif city ==\"Jaipur\":\n",
    "    print(\"Jal Mahal\")\n",
    "else:\n",
    "    print(\"Invalid city name\")"
   ]
  },
  {
   "cell_type": "markdown",
   "id": "ad807f2e-2516-4f3f-b602-4c48fd967245",
   "metadata": {},
   "source": [
    "Q4. Check how many time a given number devided by 3 before it is less than or equal to 10"
   ]
  },
  {
   "cell_type": "code",
   "execution_count": 3,
   "id": "55f335be-f35f-4f3a-8e7a-4750ec891eb3",
   "metadata": {},
   "outputs": [
    {
     "name": "stdin",
     "output_type": "stream",
     "text": [
      "Enter the numbers : 5\n"
     ]
    },
    {
     "name": "stdout",
     "output_type": "stream",
     "text": [
      "number is not devided by 3\n"
     ]
    }
   ],
   "source": [
    "user_number =int(input(\"Enter the numbers :\"))\n",
    "\n",
    "if user_number <=10 :\n",
    "    if user_number % 3 ==0:\n",
    "        print(\"The number is devided by 3\")\n",
    "    else:\n",
    "        print(\"number is not devided by 3\")\n",
    "else:\n",
    "    print(\"Numbers is greater than 10\")"
   ]
  },
  {
   "cell_type": "markdown",
   "id": "b82b4c24-2996-478d-bbde-c5c7d19c8c63",
   "metadata": {},
   "source": [
    "Q5. Why and when to used while loop in python give a detail description with example ?"
   ]
  },
  {
   "cell_type": "markdown",
   "id": "40acaed0-e0f4-4a9c-95fe-3c8cb4a6555b",
   "metadata": {},
   "source": [
    "Ans:- python While Loop is used to execute a block of statements repeatedly until a given condition is satisfied. And when the condition becomes false, \n",
    "the line immediately after the loop in the program is executed."
   ]
  },
  {
   "cell_type": "code",
   "execution_count": 3,
   "id": "b049c92e-47e0-4dc3-b0fb-c5d6b0189f24",
   "metadata": {},
   "outputs": [
    {
     "name": "stdout",
     "output_type": "stream",
     "text": [
      "0\n",
      "1\n",
      "2\n",
      "3\n",
      "4\n",
      "5\n",
      "6\n",
      "7\n",
      "8\n",
      "9\n"
     ]
    }
   ],
   "source": [
    "# Example \n",
    "i =0\n",
    "while i < 10:\n",
    "    print(i)\n",
    "    i =i+1"
   ]
  },
  {
   "cell_type": "markdown",
   "id": "bda20fee-4d28-4a97-bb9b-2cf279bb4bbf",
   "metadata": {},
   "source": [
    "Q6. use nested while loop to print 3 different pattern ?"
   ]
  },
  {
   "cell_type": "code",
   "execution_count": 7,
   "id": "4c88628b-ec03-4263-8af7-96d447a686fe",
   "metadata": {},
   "outputs": [
    {
     "name": "stdout",
     "output_type": "stream",
     "text": [
      "1 \n",
      "1 2 \n",
      "1 2 3 \n",
      "1 2 3 4 \n",
      "1 2 3 4 5 \n"
     ]
    }
   ],
   "source": [
    "i =1 \n",
    "while i<=5:\n",
    "    j =1\n",
    "    while j <=i:\n",
    "        print(j,end=' ')\n",
    "        j =j+1\n",
    "    print()\n",
    "    i =i +1"
   ]
  },
  {
   "cell_type": "markdown",
   "id": "355387ac-b35f-441e-ac74-a12262f908da",
   "metadata": {},
   "source": [
    "Q7. Reverse while loop to print 10 to 1 number ?"
   ]
  },
  {
   "cell_type": "code",
   "execution_count": 8,
   "id": "500aa190-f6e2-4867-8211-a1af228aef30",
   "metadata": {},
   "outputs": [
    {
     "name": "stdout",
     "output_type": "stream",
     "text": [
      "10\n",
      "9\n",
      "8\n",
      "7\n",
      "6\n",
      "5\n",
      "4\n",
      "3\n",
      "2\n",
      "1\n"
     ]
    }
   ],
   "source": [
    "i =10\n",
    "\n",
    "while i != 0:\n",
    "    print(i)\n",
    "    i = i-1"
   ]
  },
  {
   "cell_type": "code",
   "execution_count": null,
   "id": "e7376382-1c44-4987-81db-21c00d1adcf7",
   "metadata": {},
   "outputs": [],
   "source": []
  }
 ],
 "metadata": {
  "kernelspec": {
   "display_name": "Python 3 (ipykernel)",
   "language": "python",
   "name": "python3"
  },
  "language_info": {
   "codemirror_mode": {
    "name": "ipython",
    "version": 3
   },
   "file_extension": ".py",
   "mimetype": "text/x-python",
   "name": "python",
   "nbconvert_exporter": "python",
   "pygments_lexer": "ipython3",
   "version": "3.10.8"
  }
 },
 "nbformat": 4,
 "nbformat_minor": 5
}
