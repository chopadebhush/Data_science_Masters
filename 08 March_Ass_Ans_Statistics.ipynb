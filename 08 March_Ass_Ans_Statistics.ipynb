{
 "cells": [
  {
   "cell_type": "code",
   "execution_count": null,
   "id": "582aa88a",
   "metadata": {},
   "outputs": [],
   "source": [
    "# Q1. What is the Probability density function?"
   ]
  },
  {
   "cell_type": "markdown",
   "id": "9ad2b92b",
   "metadata": {},
   "source": [
    "The probability density function (PDF) is a function that describes the relative likelihood or probability of a continuous random variable taking on a specific value or falling within a particular range of values.\n",
    "\n",
    "Unlike the probability mass function (PMF), which is used for discrete random variables, the PDF is used for continuous random variables. The PDF is defined as the derivative of the cumulative distribution function (CDF) with respect to the variable of interest.\n",
    "\n",
    "Mathematically, the PDF is denoted by f(x) and satisfies the following properties:\n",
    "\n",
    "The probability of a random variable taking on any particular value is zero, i.e., P(X = x) = 0 for all x.\n",
    "\n",
    "The total area under the PDF curve is equal to 1, i.e., ∫f(x)dx = 1, where the integral is taken over the entire range of the random variable.\n",
    "\n",
    "The probability of a random variable falling within a particular range of values is given by the area under the PDF curve between those values.\n",
    "\n",
    "The PDF is an essential concept in probability theory and statistics, as it allows us to calculate probabilities and make inferences about continuous random variables."
   ]
  },
  {
   "cell_type": "code",
   "execution_count": null,
   "id": "daef5cfc",
   "metadata": {},
   "outputs": [],
   "source": [
    "# Q2. What are the types of Probability distribution?"
   ]
  },
  {
   "cell_type": "markdown",
   "id": "53df951d",
   "metadata": {},
   "source": [
    "There are several types of probability distributions, each with its own characteristics and applications. Some of the most common types of probability distributions are:\n",
    "\n",
    "- Bernoulli distribution: A discrete distribution that models the probability of a binary outcome (e.g., success/failure, yes/no) in a single trial.\n",
    "\n",
    "\n",
    "- Binomial distribution: A discrete distribution that models the number of successes in a fixed number of independent Bernoulli trials.\n",
    "\n",
    "\n",
    "- Poisson distribution: A discrete distribution that models the probability of a certain number of events occurring in a fixed time or space interval.\n",
    "\n",
    "\n",
    "- Uniform distribution: A continuous distribution where all values in a given range have equal probability of occurring.\n",
    "\n",
    "\n",
    "- Normal distribution: A continuous distribution that is symmetrical, bell-shaped, and describes many natural phenomena.\n",
    "\n",
    "\n",
    "- Exponential distribution: A continuous distribution that models the time between events occurring in a Poisson process.\n",
    "\n",
    "\n",
    "- Gamma distribution: A continuous distribution that is often used to model waiting times and the sum of independent exponential distributions.\n",
    "\n",
    "\n",
    "- Chi-squared distribution: A continuous distribution that is often used in hypothesis testing and confidence interval calculations.\n",
    "\n",
    "These are just a few examples of the many types of probability distributions that exist. Each distribution has its own set of properties and applications, and the choice of distribution will depend on the nature of the data and the problem being studied."
   ]
  },
  {
   "cell_type": "code",
   "execution_count": null,
   "id": "20259fc9",
   "metadata": {},
   "outputs": [],
   "source": [
    "# Q3. Write a Python function to calculate the probability density function of a normal distribution with\n",
    "# given mean and standard deviation at a given point."
   ]
  },
  {
   "cell_type": "code",
   "execution_count": 1,
   "id": "48cf9112",
   "metadata": {},
   "outputs": [
    {
     "name": "stdout",
     "output_type": "stream",
     "text": [
      "0.12098536225957168\n"
     ]
    }
   ],
   "source": [
    "import math\n",
    "\n",
    "def normal_pdf(x, mean, std_dev):\n",
    "    \"\"\"\n",
    "    Calculates the probability density function of a normal distribution at a given point.\n",
    "    \n",
    "    Args:\n",
    "    x (float): The point at which to calculate the PDF.\n",
    "    mean (float): The mean of the normal distribution.\n",
    "    std_dev (float): The standard deviation of the normal distribution.\n",
    "    \n",
    "    Returns:\n",
    "    float: The PDF of the normal distribution at the given point.\n",
    "    \"\"\"\n",
    "    coefficient = 1 / (std_dev * math.sqrt(2 * math.pi))\n",
    "    exponent = -((x - mean)**2) / (2 * std_dev**2)\n",
    "    pdf = coefficient * math.exp(exponent)\n",
    "    return pdf\n",
    "\n",
    "\n",
    "pdf = normal_pdf(7, 5, 2)\n",
    "print(pdf)  # Output: 0.12098536225957168\n"
   ]
  },
  {
   "cell_type": "code",
   "execution_count": null,
   "id": "2f8de5cd",
   "metadata": {},
   "outputs": [],
   "source": [
    "# Q4. What are the properties of Binomial distribution? Give two examples of events where binomial\n",
    "# distribution can be applied."
   ]
  },
  {
   "cell_type": "markdown",
   "id": "ca8469dd",
   "metadata": {},
   "source": [
    "The binomial distribution is a probability distribution that describes the number of successes in a fixed number of independent and identical trials, where each trial has only two possible outcomes (success or failure). The properties of the binomial distribution are:\n",
    "\n",
    "The distribution is discrete, meaning that the random variable can only take on integer values.\n",
    "The distribution is characterized by two parameters: n, the number of trials, and p, the probability of success on each trial.\n",
    "The mean of the distribution is np, and the variance is np(1-p).\n",
    "The shape of the distribution is symmetric for values of p=0.5, and becomes increasingly skewed as p moves away from 0.5.\n",
    "\n",
    "Two examples of events where the binomial distribution can be applied are:\n",
    "\n",
    "1. Tossing a coin: Suppose we toss a fair coin (where the probability of getting heads is p=0.5) 10 times. The number of heads we get in this experiment follows a binomial distribution with parameters n=10 and p=0.5.\n",
    "\n",
    "\n",
    "2. Quality control: A manufacturer wants to check the quality of a batch of 1000 products, and decides to inspect 10% of the items at random. Let's assume that each product has a probability p=0.95 of passing the inspection. The number of products that pass the inspection follows a binomial distribution with parameters n=100 and p=0.95."
   ]
  },
  {
   "cell_type": "code",
   "execution_count": null,
   "id": "e7c36c56",
   "metadata": {},
   "outputs": [],
   "source": [
    "# Q5. Generate a random sample of size 1000 from a binomial distribution with probability of success 0.4\n",
    "# and plot a histogram of the results using matplotlib."
   ]
  },
  {
   "cell_type": "code",
   "execution_count": 2,
   "id": "9076cd90",
   "metadata": {},
   "outputs": [
    {
     "data": {
      "image/png": "[encoded data removed]",
      "text/plain": [
       "<Figure size 432x288 with 1 Axes>"
      ]
     },
     "metadata": {
      "needs_background": "light"
     },
     "output_type": "display_data"
    }
   ],
   "source": [
    "import numpy as np\n",
    "import matplotlib.pyplot as plt\n",
    "\n",
    "# Set the parameters\n",
    "n = 1000  # number of trials\n",
    "p = 0.4   # probability of success\n",
    "\n",
    "# Generate the random sample\n",
    "sample = np.random.binomial(n, p, size=1000)\n",
    "\n",
    "# Plot the histogram\n",
    "plt.hist(sample, bins=30, density=True, alpha=0.5)\n",
    "plt.xlabel('Number of successes')\n",
    "plt.ylabel('Probability density')\n",
    "plt.title('Binomial distribution with n=1000, p=0.4')\n",
    "plt.show()\n"
   ]
  },
  {
   "cell_type": "markdown",
   "id": "a8456b2d",
   "metadata": {},
   "source": [
    "This code generates a random sample of size 1000 from a binomial distribution with parameters n=1000 and p=0.4 using NumPy's np.random.binomial function. It then plots a histogram of the sample using Matplotlib's plt.hist function, with 30 bins and a transparency of 0.5. The resulting plot shows the distribution of the number of successes in 1000 trials, with a probability of success of 0.4."
   ]
  },
  {
   "cell_type": "code",
   "execution_count": null,
   "id": "b475bdde",
   "metadata": {},
   "outputs": [],
   "source": [
    "# Q6. Write a Python function to calculate the cumulative distribution function of a Poisson distribution\n",
    "# with given mean at a given point."
   ]
  },
  {
   "cell_type": "code",
   "execution_count": 1,
   "id": "c7ea6033",
   "metadata": {},
   "outputs": [],
   "source": [
    "import math\n",
    "\n",
    "def poisson_cdf(mu, k):\n",
    "    \"\"\"\n",
    "    Calculate the cumulative distribution function (CDF) of a Poisson distribution with mean mu at point k.\n",
    "    \"\"\"\n",
    "    cdf = 0.0\n",
    "    for i in range(k+1):\n",
    "        cdf += math.exp(-mu) * (mu ** i) / math.factorial(i)\n",
    "    return cdf\n"
   ]
  },
  {
   "cell_type": "markdown",
   "id": "e17e3fec",
   "metadata": {},
   "source": [
    "This function uses the formula for the Poisson CDF, which is the sum of the probabilities of all Poisson events up to and including the given point k. The formula is:\n",
    "\n",
    "CDF(k) = P(X <= k) = sum(i=0 to k) [e^(-mu) * (mu^i / i!)]\n",
    "\n",
    "where X is the random variable representing the Poisson distribution with mean mu.\n",
    "\n",
    "The function poisson_cdf(mu, k) takes two arguments: mu is the mean of the Poisson distribution, and k is the point at which we want to calculate the CDF. It returns the Poisson CDF at that point.\n",
    "\n",
    "Here's an example of how to use this function:"
   ]
  },
  {
   "cell_type": "code",
   "execution_count": 4,
   "id": "96edb56c",
   "metadata": {},
   "outputs": [
    {
     "name": "stdout",
     "output_type": "stream",
     "text": [
      "0.7575761331330659\n"
     ]
    }
   ],
   "source": [
    "# Calculate the Poisson CDF at k=3 with mean mu=2.5\n",
    "result = poisson_cdf(2.5, 3)\n",
    "print(result)\n"
   ]
  },
  {
   "cell_type": "code",
   "execution_count": null,
   "id": "c1705e05",
   "metadata": {},
   "outputs": [],
   "source": [
    "# Q7. How Binomial distribution different from Poisson distribution?"
   ]
  },
  {
   "cell_type": "markdown",
   "id": "0e5130e1",
   "metadata": {},
   "source": [
    "Binomial and Poisson distributions are both probability distributions used in statistical inference and modeling, but they differ in several important ways:\n",
    "\n",
    "- Nature of Events: The Binomial distribution is used to model the number of successes in a fixed number of independent Bernoulli trials, where each trial has only two possible outcomes (success or failure). On the other hand, the Poisson distribution is used to model the number of rare events that occur over a fixed interval of time or space.\n",
    "\n",
    "\n",
    "- Assumptions: The Binomial distribution assumes a fixed number of trials and that the probability of success is constant across all trials. The Poisson distribution assumes that the rare events occur randomly and independently in time or space.\n",
    "\n",
    "\n",
    "- Parameterization: The Binomial distribution is parameterized by the number of trials (n) and the probability of success on each trial (p), while the Poisson distribution is parameterized by the rate parameter (λ) which represents the average number of rare events per unit of time or space.\n",
    "\n",
    "\n",
    "- Range of Values: The Binomial distribution is a discrete distribution and can take on integer values between 0 and n, while the Poisson distribution is also a discrete distribution but can take on any non-negative integer value.\n",
    "\n",
    "\n",
    "- Relationship: The Poisson distribution can be derived from the Binomial distribution in the limit as the number of trials becomes large and the probability of success becomes small, while holding the expected number of successes fixed.\n",
    "\n",
    "In summary, while both the Binomial and Poisson distributions are discrete probability distributions, they are used to model different types of events and have different assumptions and parameterizations."
   ]
  },
  {
   "cell_type": "code",
   "execution_count": null,
   "id": "90e50473",
   "metadata": {},
   "outputs": [],
   "source": [
    "# Q8. Generate a random sample of size 1000 from a Poisson distribution with mean 5 and calculate the\n",
    "# sample mean and variance."
   ]
  },
  {
   "cell_type": "code",
   "execution_count": 2,
   "id": "76a71178",
   "metadata": {},
   "outputs": [
    {
     "name": "stdout",
     "output_type": "stream",
     "text": [
      "Sample mean:  5.021\n",
      "Sample variance:  4.790558999999999\n"
     ]
    }
   ],
   "source": [
    "import numpy as np\n",
    "\n",
    "# Set the parameters\n",
    "mean = 5\n",
    "\n",
    "# Generate the random sample\n",
    "sample = np.random.poisson(mean, size=1000)\n",
    "\n",
    "# Calculate the sample mean and variance\n",
    "sample_mean = np.mean(sample)\n",
    "sample_variance = np.var(sample)\n",
    "\n",
    "print(\"Sample mean: \", sample_mean)\n",
    "print(\"Sample variance: \", sample_variance)\n"
   ]
  },
  {
   "cell_type": "markdown",
   "id": "068586f6",
   "metadata": {},
   "source": [
    "This code generates a random sample of size 1000 from a Poisson distribution with mean 5 using NumPy's np.random.poisson function. It then calculates the sample mean and variance using NumPy's np.mean and np.var functions, respectively.\n",
    "\n",
    "The output will be two numbers, the sample mean and variance, which will vary slightly each time you run the code due to the randomness of the sampling process."
   ]
  },
  {
   "cell_type": "code",
   "execution_count": null,
   "id": "51cbf56c",
   "metadata": {},
   "outputs": [],
   "source": [
    "# Q9. How mean and variance are related in Binomial distribution and Poisson distribution?"
   ]
  },
  {
   "cell_type": "markdown",
   "id": "f0b1acb1",
   "metadata": {},
   "source": [
    "In both the Binomial and Poisson distributions, the mean and variance are related, but the nature of the relationship is different for each distribution.\n",
    "\n",
    "1. For the Binomial distribution with parameters n (number of trials) and p (probability of success on each trial), the mean (μ) and variance (σ^2) are given by:\n",
    "\n",
    "μ = n * p\n",
    "\n",
    "σ^2 = n * p * (1 - p)\n",
    "\n",
    "Here, the variance is directly proportional to both the number of trials n and the probability of success on each trial p. As p gets closer to 0 or 1, the variance becomes smaller, and as n gets larger, the variance also gets larger.\n",
    "\n",
    "2. For the Poisson distribution with parameter λ (the rate parameter), the mean (μ) and variance (σ^2) are both equal to λ:\n",
    "\n",
    "μ = λ\n",
    "\n",
    "σ^2 = λ\n",
    "\n",
    "Here, the mean and variance are both equal to the rate parameter λ. The variance is proportional to the mean, and as the mean gets larger, the variance also gets larger.\n",
    "\n",
    "In summary, for the Binomial distribution, the variance is proportional to both the number of trials and the probability of success, while for the Poisson distribution, the variance is proportional to the mean."
   ]
  },
  {
   "cell_type": "code",
   "execution_count": null,
   "id": "51b33443",
   "metadata": {},
   "outputs": [],
   "source": [
    "# Q10. In normal distribution with respect to mean position, where does the least frequent data appear?"
   ]
  },
  {
   "cell_type": "markdown",
   "id": "67a41b97",
   "metadata": {},
   "source": [
    "In a normal distribution, the least frequent data appears in the tails of the distribution, which are the regions farthest away from the mean. This is because the normal distribution is a symmetric distribution, with a peak at the mean and decreasing density as you move away from the mean in either direction. The probability of observing a data point in the tails of the distribution is smaller than the probability of observing a data point closer to the mean.\n",
    "\n",
    "More specifically, in a standard normal distribution with mean 0 and standard deviation 1, the least frequent data appears in the tails beyond 2 or 3 standard deviations from the mean. The probability of observing a data point beyond 2 or 3 standard deviations from the mean is very small, and these data points are considered outliers or extreme values."
   ]
  },
  {
   "cell_type": "code",
   "execution_count": null,
   "id": "231ca0ee",
   "metadata": {},
   "outputs": [],
   "source": []
  }
 ],
 "metadata": {
  "kernelspec": {
   "display_name": "Python 3 (ipykernel)",
   "language": "python",
   "name": "python3"
  },
  "language_info": {
   "codemirror_mode": {
    "name": "ipython",
    "version": 3
   },
   "file_extension": ".py",
   "mimetype": "text/x-python",
   "name": "python",
   "nbconvert_exporter": "python",
   "pygments_lexer": "ipython3",
   "version": "3.10.1"
  }
 },
 "nbformat": 4,
 "nbformat_minor": 5
}
