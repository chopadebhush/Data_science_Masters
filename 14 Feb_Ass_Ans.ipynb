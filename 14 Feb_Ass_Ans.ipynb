{
 "cells": [
  {
   "cell_type": "markdown",
   "id": "356a99dc",
   "metadata": {},
   "source": [
    "# 1)What is multithreading in python? Why is it used? Name the module used to handle threads in python"
   ]
  },
  {
   "cell_type": "markdown",
   "id": "eb011678",
   "metadata": {},
   "source": [
    "Multithreading in Python refers to the concurrent execution of multiple threads within a single Python process. A thread is a separate flow of execution that can run in parallel with other threads. Multithreading is used to achieve parallelism and can help improve the performance of a program by allowing multiple tasks to be executed at the same time.\n",
    "\n",
    "In Python, multithreading is often used to perform tasks that involve waiting for input or output operations, such as file I/O or network communication. By using multiple threads, a program can continue to execute other tasks while it waits for I/O operations to complete.\n",
    "\n",
    "The module used to handle threads in Python is called \"threading\". This module provides a simple way to create and manage threads within a Python program. The threading module allows developers to create new threads, start and stop threads, and manage thread synchronization and communication. It also provides support for thread-local data, which allows each thread to have its own set of data that is not shared with other threads."
   ]
  },
  {
   "cell_type": "markdown",
   "id": "5a024070",
   "metadata": {},
   "source": [
    "# 2) Why threading module used? Write the use of the following functions\n",
    "# a) activeCount() b) currentThread() c)enumerate()"
   ]
  },
  {
   "cell_type": "markdown",
   "id": "b398015f",
   "metadata": {},
   "source": [
    "The threading module in Python is used to handle threads within a program. It provides a way to create, manage, and control the execution of multiple threads in a single Python process. Here are the uses of some of the commonly used functions in the threading module:\n",
    "\n",
    "a) activeCount(): This function is used to get the number of currently active threads in the program. It returns an integer that represents the number of threads that are currently executing or waiting to execute.\n",
    "\n",
    "b) currentThread(): This function returns a reference to the currently executing thread object. It can be used to obtain information about the current thread, such as its name or thread ID.\n",
    "\n",
    "c) enumerate(): This function returns a list of all active thread objects in the program. It can be used to obtain information about all threads that are currently executing or waiting to execute. By default, this function includes the main thread in the list of threads.\n",
    "\n",
    "In summary, the activeCount() function is used to obtain the number of active threads, currentThread() is used to obtain information about the current thread, and enumerate() is used to obtain a list of all active thread objects in the program. These functions can be helpful in managing and debugging a program that uses multiple threads."
   ]
  },
  {
   "cell_type": "code",
   "execution_count": 1,
   "id": "e9779f35",
   "metadata": {},
   "outputs": [
    {
     "name": "stdout",
     "output_type": "stream",
     "text": [
      "Current thread name: Thread-5 (print_thread_name)\n",
      "Current thread name: Thread-6 (print_thread_name)\n",
      "Current thread name: Thread-7 (print_thread_name)\n",
      "Number of active threads: 6\n",
      "Current thread ID: 13744\n",
      "Current thread name: MainThread\n",
      "Thread name: MainThread, ID: 13744, is daemon: False\n",
      "Thread name: IOPub, ID: 10116, is daemon: True\n",
      "Thread name: Heartbeat, ID: 8972, is daemon: True\n",
      "Thread name: Control, ID: 18132, is daemon: True\n",
      "Thread name: IPythonHistorySavingThread, ID: 15864, is daemon: True\n",
      "Thread name: Thread-4, ID: 14312, is daemon: True\n"
     ]
    },
    {
     "name": "stderr",
     "output_type": "stream",
     "text": [
      "C:\\Users\\dhruv\\AppData\\Local\\Temp\\ipykernel_18000\\620510706.py:5: DeprecationWarning: currentThread() is deprecated, use current_thread() instead\n",
      "  print(f\"Current thread name: {threading.currentThread().getName()}\")\n",
      "C:\\Users\\dhruv\\AppData\\Local\\Temp\\ipykernel_18000\\620510706.py:5: DeprecationWarning: getName() is deprecated, get the name attribute instead\n",
      "  print(f\"Current thread name: {threading.currentThread().getName()}\")\n",
      "C:\\Users\\dhruv\\AppData\\Local\\Temp\\ipykernel_18000\\620510706.py:22: DeprecationWarning: activeCount() is deprecated, use active_count() instead\n",
      "  print(f\"Number of active threads: {threading.activeCount()}\")\n",
      "C:\\Users\\dhruv\\AppData\\Local\\Temp\\ipykernel_18000\\620510706.py:25: DeprecationWarning: currentThread() is deprecated, use current_thread() instead\n",
      "  print(f\"Current thread ID: {threading.currentThread().ident}\")\n",
      "C:\\Users\\dhruv\\AppData\\Local\\Temp\\ipykernel_18000\\620510706.py:26: DeprecationWarning: currentThread() is deprecated, use current_thread() instead\n",
      "  print(f\"Current thread name: {threading.currentThread().getName()}\")\n",
      "C:\\Users\\dhruv\\AppData\\Local\\Temp\\ipykernel_18000\\620510706.py:26: DeprecationWarning: getName() is deprecated, get the name attribute instead\n",
      "  print(f\"Current thread name: {threading.currentThread().getName()}\")\n",
      "C:\\Users\\dhruv\\AppData\\Local\\Temp\\ipykernel_18000\\620510706.py:30: DeprecationWarning: getName() is deprecated, get the name attribute instead\n",
      "  print(f\"Thread name: {thread.getName()}, ID: {thread.ident}, is daemon: {thread.daemon}\")\n"
     ]
    }
   ],
   "source": [
    "import threading\n",
    "\n",
    "# Define a simple function that prints the name of the current thread\n",
    "def print_thread_name():\n",
    "    print(f\"Current thread name: {threading.currentThread().getName()}\")\n",
    "\n",
    "# Create three thread objects and start them\n",
    "thread1 = threading.Thread(target=print_thread_name)\n",
    "thread2 = threading.Thread(target=print_thread_name)\n",
    "thread3 = threading.Thread(target=print_thread_name)\n",
    "\n",
    "thread1.start()\n",
    "thread2.start()\n",
    "thread3.start()\n",
    "\n",
    "# Wait for all three threads to finish executing\n",
    "thread1.join()\n",
    "thread2.join()\n",
    "thread3.join()\n",
    "\n",
    "# Print the number of active threads in the program\n",
    "print(f\"Number of active threads: {threading.activeCount()}\")\n",
    "\n",
    "# Print information about the current thread\n",
    "print(f\"Current thread ID: {threading.currentThread().ident}\")\n",
    "print(f\"Current thread name: {threading.currentThread().getName()}\")\n",
    "\n",
    "# Print information about all active thread objects\n",
    "for thread in threading.enumerate():\n",
    "    print(f\"Thread name: {thread.getName()}, ID: {thread.ident}, is daemon: {thread.daemon}\")\n"
   ]
  },
  {
   "cell_type": "markdown",
   "id": "ddf36b34",
   "metadata": {},
   "source": [
    "In this code, we define a simple function called print_thread_name() that prints the name of the current thread. We then create three thread objects and start them, each of which calls this function. We use the join() method to wait for all three threads to finish executing.\n",
    "\n",
    "After the threads have finished, we use the activeCount() function to print the number of active threads in the program. We also use the currentThread() function to print information about the current thread, including its ID and name. Finally, we use the enumerate() function to print information about all active thread objects, including their names, IDs, and whether they are daemonic threads or not."
   ]
  },
  {
   "cell_type": "markdown",
   "id": "a8b7bd03",
   "metadata": {},
   "source": [
    "# 3. Explain the following functions\n",
    "# a)run() b)start() c) join() d) isAlive()"
   ]
  },
  {
   "cell_type": "markdown",
   "id": "8f7f3175",
   "metadata": {},
   "source": [
    "In Python multithreading, the following functions are commonly used:\n",
    "\n",
    "a) run(): This method is called by the start() method of a thread object and is used to define the code that will be executed in the new thread. When the start() method is called, it will create a new thread and call its run() method, which will execute the code that has been defined.\n",
    "\n",
    "b) start(): This method is used to start a new thread of execution. When this method is called, a new thread is created, and its run() method is called to execute the code that has been defined.\n",
    "\n",
    "c) join(): This method is used to wait for a thread to complete its execution. When this method is called on a thread object, the calling thread will block until the target thread completes its execution.\n",
    "\n",
    "d) is_alive(): This method is used to check whether a thread is currently executing. It returns True if the thread is still executing, and False otherwise.\n",
    "\n",
    "Here is an example code that demonstrates the use of these functions in Python multithreading:\n",
    "\n"
   ]
  },
  {
   "cell_type": "code",
   "execution_count": 17,
   "id": "060307a9",
   "metadata": {},
   "outputs": [
    {
     "name": "stdout",
     "output_type": "stream",
     "text": [
      "Thread-36 started\n",
      "Thread-37 started\n",
      "Thread-36 finished\n",
      "Thread-37 finished\n",
      "Thread 1 is alive: False\n",
      "Thread 2 is alive: False\n"
     ]
    }
   ],
   "source": [
    "import threading\n",
    "import time\n",
    "\n",
    "# Define a simple thread class\n",
    "class MyThread(threading.Thread):\n",
    "    def run(self):\n",
    "        print(f\"{self.name} started\")\n",
    "\n",
    "        time.sleep(2)\n",
    "        print(f\"{self.name} finished\")\n",
    "\n",
    "# Create two thread objects\n",
    "thread1 = MyThread()\n",
    "thread2 = MyThread()\n",
    "\n",
    "# Start the threads\n",
    "thread1.start()\n",
    "thread2.start()\n",
    "\n",
    "# Wait for the threads to finish\n",
    "thread1.join()\n",
    "thread2.join()\n",
    "\n",
    "# Check if the threads are still alive\n",
    "print(f\"Thread 1 is alive: {thread1.is_alive()}\")\n",
    "print(f\"Thread 2 is alive: {thread2.is_alive()}\")\n"
   ]
  },
  {
   "cell_type": "markdown",
   "id": "1b314774",
   "metadata": {},
   "source": [
    "In this code, we define a simple thread class called MyThread that overrides the run() method to print a message and then sleep for 2 seconds. We then create two thread objects and start them using the start() method.\n",
    "\n",
    "We use the join() method to wait for the threads to complete their execution before checking whether they are still alive using the isAlive() method.\n",
    "\n",
    "This code demonstrates the basic use of the run(), start(), join(), and is_alive() functions in Python multithreading.\n",
    "\n",
    "\n",
    "\n",
    "\n"
   ]
  },
  {
   "cell_type": "markdown",
   "id": "14f96b27",
   "metadata": {},
   "source": [
    "# 4. Write a python program to create two threads. Thread one must print the list of squares and thread two must print the list of cubes"
   ]
  },
  {
   "cell_type": "markdown",
   "id": "6cbb4b4f",
   "metadata": {},
   "source": [
    "Here's a Python program that creates two threads, with one thread printing a list of squares and the other thread printing a list of cubes:\n",
    "\n",
    "\n"
   ]
  },
  {
   "cell_type": "code",
   "execution_count": 12,
   "id": "23eacfdd",
   "metadata": {},
   "outputs": [
    {
     "name": "stdout",
     "output_type": "stream",
     "text": [
      "\n",
      "1 squared is 1\n",
      "\n",
      "2 squared is 4\n",
      "\n",
      "3 squared is 9\n",
      "\n",
      "4 squared is 16\n",
      "\n",
      "5 squared is 25\n",
      "\n",
      "6 squared is 36\n",
      "1 cubed is 1\n",
      "\n",
      "2 cubed is 8\n",
      "\n",
      "3 cubed is 27\n",
      "\n",
      "4 cubed is 64\n",
      "\n",
      "5 cubed is 125\n",
      "\n",
      "6 cubed is 216\n",
      "\n",
      "7 cubed is 343\n",
      "\n",
      "8 cubed is 512\n",
      "\n",
      "9 cubed is 729\n",
      "\n",
      "10 cubed is 1000\n",
      "\n",
      "\n",
      "7 squared is 49\n",
      "\n",
      "8 squared is 64\n",
      "\n",
      "9 squared is 81\n",
      "\n",
      "10 squared is 100\n"
     ]
    }
   ],
   "source": [
    "import threading\n",
    "\n",
    "# Define a function to print a list of squares\n",
    "def print_squares():\n",
    "    for i in range(1, 11):\n",
    "        print(f\"\\n{i} squared is {i*i}\")\n",
    "        \n",
    "\n",
    "# Define a function to print a list of cubes\n",
    "def print_cubes():\n",
    "    for i in range(1, 11):\n",
    "        print(f\"\\n{i} cubed is {i*i*i}\")\n",
    "\n",
    "# Create two thread objects, one for each function\n",
    "thread1 = threading.Thread(target=print_squares)\n",
    "thread2 = threading.Thread(target=print_cubes)\n",
    "\n",
    "# Start the threads\n",
    "thread1.start()\n",
    "thread2.start()\n",
    "\n",
    "# Wait for the threads to finish\n",
    "thread1.join()\n",
    "thread2.join()\n"
   ]
  },
  {
   "cell_type": "markdown",
   "id": "dc3b0153",
   "metadata": {},
   "source": [
    "In this code, we define two functions: print_squares() and print_cubes(), which print a list of squares and cubes, respectively. We then create two thread objects, with each thread targeting one of these functions.\n",
    "\n",
    "We start the threads using the start() method and then wait for them to complete using the join() method.\n",
    "\n",
    "When the program is executed, the two threads will run concurrently, with one printing the list of squares and the other printing the list of cubes. The output of the program will be interleaved, with lines from each thread being printed out of order."
   ]
  },
  {
   "cell_type": "markdown",
   "id": "b4f57613",
   "metadata": {},
   "source": [
    "# 5. State advantages and disadvantages of multithreading"
   ]
  },
  {
   "cell_type": "markdown",
   "id": "b10f7246",
   "metadata": {},
   "source": [
    "Multithreading has several advantages and disadvantages, which are listed below:\n",
    "\n",
    "Advantages of Multithreading:\n",
    "\n",
    "-Increased Performance: Multithreading can improve the performance of a program by allowing multiple threads to run concurrently on multiple processors or cores. This can lead to faster execution times and improved system responsiveness.\n",
    "\n",
    "-Better Resource Utilization: Multithreading allows multiple threads to share system resources such as CPU time and memory, resulting in better resource utilization and more efficient use of system resources.\n",
    "\n",
    "-Improved Responsiveness: Multithreading can improve the responsiveness of a program by allowing the user interface to remain active and responsive while long-running operations are performed in the background.\n",
    "\n",
    "-Improved Modularity: Multithreading allows complex programs to be broken down into smaller, more manageable components, making it easier to develop and maintain complex software systems.\n",
    "\n",
    "Disadvantages of Multithreading:\n",
    "\n",
    "-Increased Complexity: Multithreaded programs can be more complex and difficult to develop, test, and maintain than single-threaded programs, especially when dealing with shared resources.\n",
    "\n",
    "-Synchronization Overhead: When multiple threads access shared resources, synchronization mechanisms must be used to prevent race conditions and ensure data consistency. This can introduce overhead and reduce performance.\n",
    "\n",
    "-Deadlocks: Multithreaded programs can be prone to deadlocks, which occur when two or more threads are blocked waiting for each other to release resources.\n",
    "\n",
    "-Debugging Difficulties: Debugging multithreaded programs can be difficult because the behavior of a program can depend on the timing and interaction of multiple threads, making it harder to reproduce and diagnose problems.\n",
    "\n",
    "In summary, multithreading can lead to increased performance, better resource utilization, improved responsiveness, and improved modularity, but it can also introduce increased complexity, synchronization overhead, deadlocks, and debugging difficulties."
   ]
  },
  {
   "cell_type": "markdown",
   "id": "3faf9fe1",
   "metadata": {},
   "source": [
    "# 6) Explain deadlocks and race conditions."
   ]
  },
  {
   "cell_type": "markdown",
   "id": "26d16aeb",
   "metadata": {},
   "source": [
    "Deadlocks and race conditions are two common concurrency issues that can occur in multithreaded programs.\n",
    "\n",
    "Deadlock:\n",
    "\n",
    "A deadlock occurs when two or more threads are blocked waiting for each other to release resources that they need to proceed. Deadlocks can occur when multiple threads access shared resources in a circular or cyclic manner, and each thread is waiting for the other thread to release the resource it needs.\n",
    "\n",
    "For example, suppose Thread 1 has locked Resource A and is waiting for Resource B, while Thread 2 has locked Resource B and is waiting for Resource A. In this case, both threads are blocked waiting for each other to release the resource they need, resulting in a deadlock.\n",
    "\n",
    "Deadlocks can be difficult to detect and debug because they can be dependent on the timing of the threads, and they can often result in a program that appears to be stuck or unresponsive.\n",
    "\n",
    "Race Condition:\n",
    "\n",
    "A race condition occurs when the behavior of a program depends on the timing or sequence of events in different threads. Race conditions can occur when multiple threads access a shared resource and the order or timing of the accesses is not properly controlled.\n",
    "\n",
    "For example, suppose two threads attempt to increment a shared counter at the same time. If the counter is initially set to zero, both threads may read the value of the counter as zero, and then both threads may increment the counter and write the value back to memory. In this case, the final value of the counter will be incorrect, since only one thread's increment operation will be reflected in the final value.\n",
    "\n",
    "Race conditions can be difficult to detect and debug, since they often depend on the timing of the threads and can result in non-deterministic behavior in the program.\n",
    "\n",
    "To avoid these concurrency issues, it is important to carefully design and implement multithreaded programs, using synchronization mechanisms such as locks, semaphores, and monitors to control access to shared resources and avoid deadlocks and race conditions."
   ]
  },
  {
   "cell_type": "markdown",
   "id": "c531771a",
   "metadata": {},
   "source": [
    "Here's an example of a race condition:"
   ]
  },
  {
   "cell_type": "code",
   "execution_count": 13,
   "id": "2e7398d6",
   "metadata": {},
   "outputs": [
    {
     "name": "stdout",
     "output_type": "stream",
     "text": [
      "Counter value:  2000000\n"
     ]
    }
   ],
   "source": [
    "import threading\n",
    "\n",
    "counter = 0\n",
    "\n",
    "def increment():\n",
    "    global counter\n",
    "    for i in range(1000000):\n",
    "        counter += 1\n",
    "\n",
    "thread1 = threading.Thread(target=increment)\n",
    "thread2 = threading.Thread(target=increment)\n",
    "\n",
    "thread1.start()\n",
    "thread2.start()\n",
    "\n",
    "thread1.join()\n",
    "thread2.join()\n",
    "\n",
    "print(\"Counter value: \", counter)\n"
   ]
  },
  {
   "cell_type": "markdown",
   "id": "1f11b3df",
   "metadata": {},
   "source": [
    "In this example, we have a global counter variable that is shared by two threads. The increment() function simply increments the counter variable 1 million times. We create two threads that execute this function, and start them using the start() method. We then wait for both threads to finish using the join() method, and print the final value of the counter variable.\n",
    "\n",
    "However, since both threads are accessing and modifying the counter variable concurrently, there is a race condition that can occur. Depending on the timing of the threads, the final value of the counter variable may not be what we expect it to be.\n",
    "\n",
    "To avoid this race condition, we can use a synchronization mechanism such as a Lock to ensure that only one thread can access the counter variable at a time"
   ]
  },
  {
   "cell_type": "code",
   "execution_count": 7,
   "id": "594b3ac9",
   "metadata": {},
   "outputs": [
    {
     "name": "stdout",
     "output_type": "stream",
     "text": [
      "Counter value:  2000000\n"
     ]
    }
   ],
   "source": [
    "import threading\n",
    "\n",
    "counter = 0\n",
    "lock = threading.Lock()\n",
    "\n",
    "def increment():\n",
    "    global counter\n",
    "    for i in range(1000000):\n",
    "        with lock:\n",
    "            counter += 1\n",
    "\n",
    "thread1 = threading.Thread(target=increment)\n",
    "thread2 = threading.Thread(target=increment)\n",
    "\n",
    "thread1.start()\n",
    "thread2.start()\n",
    "\n",
    "thread1.join()\n",
    "thread2.join()\n",
    "\n",
    "print(\"Counter value: \", counter)\n"
   ]
  },
  {
   "cell_type": "markdown",
   "id": "4cb5ade0",
   "metadata": {},
   "source": [
    "In this modified code, we use a Lock object to synchronize access to the counter variable. The increment() function now uses a with lock: block to acquire the lock before accessing the counter variable, and release the lock afterwards. This ensures that only one thread can access the counter variable at a time, and avoids the race condition that we saw earlier."
   ]
  },
  {
   "cell_type": "code",
   "execution_count": null,
   "id": "4f00b801",
   "metadata": {},
   "outputs": [],
   "source": []
  },
  {
   "cell_type": "code",
   "execution_count": null,
   "id": "798d0106",
   "metadata": {},
   "outputs": [],
   "source": []
  }
 ],
 "metadata": {
  "kernelspec": {
   "display_name": "Python 3 (ipykernel)",
   "language": "python",
   "name": "python3"
  },
  "language_info": {
   "codemirror_mode": {
    "name": "ipython",
    "version": 3
   },
   "file_extension": ".py",
   "mimetype": "text/x-python",
   "name": "python",
   "nbconvert_exporter": "python",
   "pygments_lexer": "ipython3",
   "version": "3.10.1"
  }
 },
 "nbformat": 4,
 "nbformat_minor": 5
}
