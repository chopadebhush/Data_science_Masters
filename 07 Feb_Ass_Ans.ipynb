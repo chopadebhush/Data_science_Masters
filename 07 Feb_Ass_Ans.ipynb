{
 "cells": [
  {
   "cell_type": "code",
   "execution_count": 1,
   "id": "2851ce89",
   "metadata": {},
   "outputs": [],
   "source": [
    "# Q1. You are writing code for a company. The requirement of the company is that you create a python\n",
    "# function that will check whether the password entered by the user is correct or not. The function should\n",
    "# take the password as input and return the string “Valid Password” if the entered password follows the\n",
    "# below-given password guidelines else it should return “Invalid Password”.\n",
    "# Note: 1. The Password should contain at least two uppercase letters and at least two lowercase letters.\n",
    "# 2. The Password should contain at least a number and three special characters.\n",
    "# 3. The length of the password should be 10 characters long."
   ]
  },
  {
   "cell_type": "code",
   "execution_count": 8,
   "id": "1cb1c94d",
   "metadata": {},
   "outputs": [
    {
     "name": "stdout",
     "output_type": "stream",
     "text": [
      "Enter your password: abAB1@#$kj\n",
      "Valid Password\n"
     ]
    }
   ],
   "source": [
    "def validate_Password(password):\n",
    "    \n",
    "    \"\"\"This function helps to check the validity of the password entered\"\"\"\n",
    "    \n",
    "    #Check if the password meets length requirement\n",
    "    if len(password) != 10:\n",
    "        return \"Invalid Password\"\n",
    "    \n",
    "    \n",
    "    upper_count, lower_count, number_count, special_count = 0, 0, 0, 0\n",
    "    \n",
    "    #Find the count of lowercase, uppercase, numbers and special characters\n",
    "    for char in password:\n",
    "        if char.isupper():\n",
    "            upper_count += 1\n",
    "        \n",
    "        elif char.islower():\n",
    "            lower_count += 1\n",
    "            \n",
    "        elif char.isdigit():\n",
    "            number_count += 1\n",
    "            \n",
    "        else:\n",
    "            special_count += 1\n",
    "            \n",
    "    #Check if the password meets the desired criteria       \n",
    "    if upper_count >= 2 and lower_count >=2 and number_count >=1 and special_count >=3:\n",
    "        return \"Valid Password\"\n",
    "    \n",
    "    else:\n",
    "        return \"Invalid Password\"\n",
    "    \n",
    "# Driver code\n",
    "password = input(\"Enter your password: \")\n",
    "validity = validate_Password(password)\n",
    "print(validity)"
   ]
  },
  {
   "cell_type": "code",
   "execution_count": 9,
   "id": "3d8fe4e4",
   "metadata": {},
   "outputs": [
    {
     "name": "stdout",
     "output_type": "stream",
     "text": [
      "Enter your password: kdjfkajdkfj\n",
      "Invalid Password\n"
     ]
    }
   ],
   "source": [
    "password = input(\"Enter your password: \")\n",
    "validity = validate_Password(password)\n",
    "print(validity)"
   ]
  },
  {
   "cell_type": "code",
   "execution_count": 2,
   "id": "4f673041",
   "metadata": {},
   "outputs": [],
   "source": [
    "# Q2. Solve the below-given questions using at least one of the following:\n",
    "# 1. Lambda function\n",
    "# 2. Filter function\n",
    "# 3. Map function\n",
    "# 4. List Comprehension\n",
    "\n",
    "# Questions:\n",
    "# A)Check if the string starts with a particular letter\n",
    "# B) Check if the string is numeric\n",
    "# C) Sort a list of tuples having fruit names and their quantity. [(\"mango\",99),(\"orange\",80), (\"grapes\", 1000)]\n",
    "# D) Find the squares of numbers from 1 to 10\n",
    "# E) Find the cube root of numbers from 1 to 10\n",
    "# F) Check if a given number is even\n",
    "# G) Filter odd numbers from the given list. [1,2,3,4,5,6,7,8,9,10]\n",
    "# H) Sort a list of integers into positive and negative integers lists.[1,2,3,4,5,6,-1,-2,-3,-4,-5,0]"
   ]
  },
  {
   "cell_type": "markdown",
   "id": "dd638d17",
   "metadata": {},
   "source": [
    "# Check if the string starts with a particular letter"
   ]
  },
  {
   "cell_type": "code",
   "execution_count": 75,
   "id": "83fb24c9",
   "metadata": {},
   "outputs": [
    {
     "name": "stdout",
     "output_type": "stream",
     "text": [
      "Enter string: dhruv\n",
      "Enter letter: d\n",
      "'dhruv' starts with 'd'!\n"
     ]
    }
   ],
   "source": [
    "#Solution uses LAMBDA function\n",
    "\n",
    "check_start = lambda string, letter: string.startswith(letter)\n",
    "\n",
    "#Driver Code\n",
    "string = input(\"Enter string: \")\n",
    "letter = input(\"Enter letter: \")\n",
    "if check_start(string, letter):\n",
    "    print(f\"'{string}' starts with '{letter}'!\")\n",
    "else:\n",
    "    print(f\"'{string}' does not starts with '{letter}'!\")\n"
   ]
  },
  {
   "cell_type": "code",
   "execution_count": 76,
   "id": "8fb8ad58",
   "metadata": {},
   "outputs": [
    {
     "name": "stdout",
     "output_type": "stream",
     "text": [
      "Enter string: dhruv\n",
      "Enter letter: r\n",
      "'dhruv' does not starts with 'r'!\n"
     ]
    }
   ],
   "source": [
    "#Driver Code\n",
    "string = input(\"Enter string: \")\n",
    "letter = input(\"Enter letter: \")\n",
    "if check_start(string, letter):\n",
    "    print(f\"'{string}' starts with '{letter}'!\")\n",
    "else:\n",
    "    print(f\"'{string}' does not starts with '{letter}'!\")\n"
   ]
  },
  {
   "cell_type": "markdown",
   "id": "3978c02b",
   "metadata": {},
   "source": [
    "# Check if the string is numeric"
   ]
  },
  {
   "cell_type": "code",
   "execution_count": 69,
   "id": "40084477",
   "metadata": {},
   "outputs": [
    {
     "name": "stdout",
     "output_type": "stream",
     "text": [
      "Enter string: 12345\n",
      "12345 is numeric!\n"
     ]
    }
   ],
   "source": [
    "#Solution uses LAMBDA function \n",
    "\n",
    "is_numeric = lambda string : string.isnumeric()\n",
    "\n",
    "#Driver Code\n",
    "string = input(\"Enter string: \")\n",
    "if is_numeric(string):\n",
    "    print(f\"{string} is numeric!\")\n",
    "else:\n",
    "    print(f\"{string} is not numeric!\")"
   ]
  },
  {
   "cell_type": "code",
   "execution_count": 70,
   "id": "fe27468e",
   "metadata": {},
   "outputs": [
    {
     "name": "stdout",
     "output_type": "stream",
     "text": [
      "Enter string: dhruv25nov\n",
      "dhruv25nov is not numeric!\n"
     ]
    }
   ],
   "source": [
    "#Driver Code\n",
    "string = input(\"Enter string: \")\n",
    "if is_numeric(string):\n",
    "    print(f\"{string} is numeric!\")\n",
    "else:\n",
    "    print(f\"{string} is not numeric!\")"
   ]
  },
  {
   "cell_type": "markdown",
   "id": "f0058609",
   "metadata": {},
   "source": [
    "# Sort a list of tuples having fruit names and their quantity.\n",
    "# [(\"mango\",99),(\"orange\",80), (\"grapes\", 1000)]"
   ]
  },
  {
   "cell_type": "code",
   "execution_count": 68,
   "id": "7c05ca15",
   "metadata": {},
   "outputs": [
    {
     "name": "stdout",
     "output_type": "stream",
     "text": [
      "Fruits increasingly sorted according to quantity: [('orange', 80), ('mango', 99), ('grapes', 1000)]\n"
     ]
    }
   ],
   "source": [
    "# Solution uses LAMBDA function \n",
    "\n",
    "fruits = [(\"mango\",99),(\"orange\",80), (\"grapes\", 1000)]\n",
    "fruits.sort(key = lambda ele : ele[1])\n",
    "print(f\"Fruits increasingly sorted according to quantity: {fruits}\")"
   ]
  },
  {
   "cell_type": "markdown",
   "id": "e6f1d40d",
   "metadata": {},
   "source": [
    "# Find the squares of numbers from 1 to 10"
   ]
  },
  {
   "cell_type": "code",
   "execution_count": 65,
   "id": "d283db77",
   "metadata": {},
   "outputs": [
    {
     "name": "stdout",
     "output_type": "stream",
     "text": [
      "The squares of number from 1-10: [1, 4, 9, 16, 25, 36, 49, 64, 81, 100]\n"
     ]
    }
   ],
   "source": [
    "# Method1: Solution uses LIST COMPREHENSION\n",
    "\n",
    "num_square = [num**2 for num in range(1,11)]\n",
    "print(f\"The squares of number from 1-10: {num_square}\")"
   ]
  },
  {
   "cell_type": "code",
   "execution_count": 66,
   "id": "5d88274b",
   "metadata": {},
   "outputs": [
    {
     "name": "stdout",
     "output_type": "stream",
     "text": [
      "The squares of number from 1-10: [1, 4, 9, 16, 25, 36, 49, 64, 81, 100]\n"
     ]
    }
   ],
   "source": [
    "# Method2: Solution uses MAP and LAMBDA\n",
    "\n",
    "num_square = list(map(lambda num : num ** 2, range(1,11)))\n",
    "print(f\"The squares of number from 1-10: {num_square}\")"
   ]
  },
  {
   "cell_type": "markdown",
   "id": "2bf56660",
   "metadata": {},
   "source": [
    "# Find the cube root of numbers from 1 to 10"
   ]
  },
  {
   "cell_type": "code",
   "execution_count": 62,
   "id": "11d1ff5c",
   "metadata": {},
   "outputs": [
    {
     "name": "stdout",
     "output_type": "stream",
     "text": [
      "The cube root from 1-10: [1.0, 1.26, 1.44, 1.59, 1.71, 1.82, 1.91, 2.0, 2.08, 2.15]\n"
     ]
    }
   ],
   "source": [
    "# Method1: Solution uses LIST COMPREHENSION\n",
    "\n",
    "cube_root = [round(num**(1/3),2) for num in range(1,11)]\n",
    "print(f\"The cube root from 1-10: {cube_root}\")"
   ]
  },
  {
   "cell_type": "code",
   "execution_count": 63,
   "id": "8437822f",
   "metadata": {},
   "outputs": [
    {
     "name": "stdout",
     "output_type": "stream",
     "text": [
      "The cube root from 1-10: [1.0, 1.26, 1.44, 1.59, 1.71, 1.82, 1.91, 2.0, 2.08, 2.15]\n"
     ]
    }
   ],
   "source": [
    "# Method2: Solution uses MAP and LAMBDA\n",
    "\n",
    "cube_root = list(map(lambda num : round(num ** (1/3), 2), range(1,11)))\n",
    "print(f\"The cube root from 1-10: {cube_root}\")\n"
   ]
  },
  {
   "cell_type": "markdown",
   "id": "1848331a",
   "metadata": {},
   "source": [
    "# Check if a given number is even"
   ]
  },
  {
   "cell_type": "code",
   "execution_count": 59,
   "id": "4db43f67",
   "metadata": {},
   "outputs": [
    {
     "name": "stdout",
     "output_type": "stream",
     "text": [
      "Enter a number: 4\n",
      "4 is a EVEN number\n"
     ]
    }
   ],
   "source": [
    "#Solution uses LAMBDA function\n",
    "\n",
    "check_even = lambda num : num % 2 == 0\n",
    "\n",
    "# Driver code\n",
    "num = int(input(\"Enter a number: \"))\n",
    "if check_even(num):\n",
    "    print(f\"{num} is a EVEN number\")\n",
    "else:\n",
    "    print(f\"{num} is a NOT a even number\")\n"
   ]
  },
  {
   "cell_type": "code",
   "execution_count": 60,
   "id": "7466a9ef",
   "metadata": {},
   "outputs": [
    {
     "name": "stdout",
     "output_type": "stream",
     "text": [
      "Enter a number: 5\n",
      "5 is a NOT a even number\n"
     ]
    }
   ],
   "source": [
    "# Driver code\n",
    "num = int(input(\"Enter a number: \"))\n",
    "if check_even(num):\n",
    "    print(f\"{num} is a EVEN number\")\n",
    "else:\n",
    "    print(f\"{num} is a NOT a even number\")\n"
   ]
  },
  {
   "cell_type": "markdown",
   "id": "4ac49954",
   "metadata": {},
   "source": [
    "# Filter odd numbers from the given list. [1,2,3,4,5,6,7,8,9,10]"
   ]
  },
  {
   "cell_type": "code",
   "execution_count": 51,
   "id": "c099f404",
   "metadata": {},
   "outputs": [
    {
     "name": "stdout",
     "output_type": "stream",
     "text": [
      "Odd numbers: [1, 3, 5, 7, 9]\n"
     ]
    }
   ],
   "source": [
    "# Method1: Solution uses FILTER and LAMBDA\n",
    "\n",
    "lst = [1,2,3,4,5,6,7,8,9,10]\n",
    "odd_numbers = list(filter(lambda x : x&1, lst ))\n",
    "print(f\"Odd numbers: {odd_numbers}\")"
   ]
  },
  {
   "cell_type": "code",
   "execution_count": 52,
   "id": "a309bfbb",
   "metadata": {},
   "outputs": [
    {
     "name": "stdout",
     "output_type": "stream",
     "text": [
      "Odd numbers: [1, 3, 5, 7, 9]\n"
     ]
    }
   ],
   "source": [
    "# Method2: Solution uses LIST COMPREHENSION\n",
    "\n",
    "lst = [1,2,3,4,5,6,7,8,9,10]\n",
    "odd_numbers = [num for num in lst if num & 1]\n",
    "print(f\"Odd numbers: {odd_numbers}\")"
   ]
  },
  {
   "cell_type": "markdown",
   "id": "9d978f02",
   "metadata": {},
   "source": [
    "# Sort a list of integers into positive and negative integers lists.[1,2,3,4,5,6,-1,-2,-3,-4,-5,0]"
   ]
  },
  {
   "cell_type": "code",
   "execution_count": 46,
   "id": "3c20c340",
   "metadata": {},
   "outputs": [
    {
     "name": "stdout",
     "output_type": "stream",
     "text": [
      "Positive list: [1, 2, 3, 4, 5, 6]\n",
      "Negative list: [-1, -2, -3, -4, -5]\n"
     ]
    }
   ],
   "source": [
    "#Solution uses LIST COMPREHENSION\n",
    "\n",
    "def sort_list(lst):\n",
    "    \"\"\" Created postive and negative list from given list\"\"\"\n",
    "    \n",
    "    p_list = [num for num in lst if num > 0]\n",
    "    n_list = [num for num in lst if num < 0]\n",
    "    \n",
    "    return p_list, n_list\n",
    "\n",
    "# Driver code\n",
    "lst = [1,2,3,4,5,6,-1,-2,-3,-4,-5,0]\n",
    "p_list, n_list = sort_list(lst)\n",
    "print(f\"Positive list: {p_list}\")\n",
    "print(f\"Negative list: {n_list}\")\n"
   ]
  },
  {
   "cell_type": "code",
   "execution_count": null,
   "id": "e33df2fe",
   "metadata": {},
   "outputs": [],
   "source": []
  }
 ],
 "metadata": {
  "kernelspec": {
   "display_name": "Python 3 (ipykernel)",
   "language": "python",
   "name": "python3"
  },
  "language_info": {
   "codemirror_mode": {
    "name": "ipython",
    "version": 3
   },
   "file_extension": ".py",
   "mimetype": "text/x-python",
   "name": "python",
   "nbconvert_exporter": "python",
   "pygments_lexer": "ipython3",
   "version": "3.10.1"
  }
 },
 "nbformat": 4,
 "nbformat_minor": 5
}
